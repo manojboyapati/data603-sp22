{
 "cells": [
  {
   "cell_type": "markdown",
   "metadata": {},
   "source": [
    "This FINAL homework recaps the Spark ML library:\n",
    "1. Download the \"Rain in Australia\" dataset from Kaggle (it is also attached to this assignment): https://www kaggle.com/sphyg/weather-\n",
    "dataset-rattle-package\n",
    "2. In a Jupyter Notebook, write a SparkML script that uses a Decision Tree Classifier to predict the Rain Tomorrow target varible\n",
    "1. Split the data 80/20 train/test, using a seed of 12345\n",
    "2. Use transformers to remove unnecessary columns (use your best judgement) and convert categorical variables into one-hot\n",
    "encoded vanables\n",
    "3. Use a parameter grid to determine the best parameters for:\n",
    "1. impurity - gini, entropy\n",
    "2. maxBins - 5, 10, 15\n",
    "3 minInfoGain - 0.0. 0.2. 0 4\n",
    "4 maxDepth - 3. 5. 7\n",
    "4. Cross-validate with 4 folds\n",
    "5. Use a pipeline to encapsulate all steps\n",
    "6. Print the parameters from the best model selected\n",
    "7. Calculate and print the Area under ROC Curve and Area under Precision-Recall Curve scores for your training and test data sets\n",
    "(these are built-in metrics, you do not need to calculate anything by hand)\n",
    "8. Your script should be clean of all the testing and exploration and should only contain the necessary code to satisfy the above\n",
    "conditions\n",
    "3. Submit only your clean Jupyter notebook, run from top to bottom with the output showing, as homework/hw07.ipynb in your github\n",
    "repository in a new branch\n",
    "4. Create a pull request and tag me as the reviewer. Submit your pull request link here"
   ]
  },
  {
   "cell_type": "code",
   "execution_count": 126,
   "metadata": {},
   "outputs": [],
   "source": [
    "from pyspark import SparkContext,SparkConf\n",
    "from pyspark.sql import SQLContext\n",
    "from pyspark.sql import SparkSession\n",
    "from pyspark.ml.classification import DecisionTreeClassifier\n",
    "from pyspark.ml.evaluation import MulticlassClassificationEvaluator\n",
    "from pyspark.ml.feature import VectorAssembler\n",
    "from sklearn.metrics import confusion_matrix\n",
    "import pandas as pd "
   ]
  },
  {
   "cell_type": "code",
   "execution_count": 15,
   "metadata": {},
   "outputs": [],
   "source": [
    "# conf = SparkConf().setMaster('local')\n",
    "# sc = SparkContext(conf = conf)"
   ]
  },
  {
   "cell_type": "code",
   "execution_count": 16,
   "metadata": {},
   "outputs": [],
   "source": [
    "# sc"
   ]
  },
  {
   "cell_type": "code",
   "execution_count": 127,
   "metadata": {},
   "outputs": [],
   "source": [
    "spark = SparkSession \\\n",
    "    .builder \\\n",
    "    .appName(\"AUS weather data\") \\\n",
    "    .getOrCreate()"
   ]
  },
  {
   "cell_type": "code",
   "execution_count": 165,
   "metadata": {},
   "outputs": [],
   "source": [
    "df = spark.read.csv(\"weatherAUS.csv\",header = True)"
   ]
  },
  {
   "cell_type": "code",
   "execution_count": 129,
   "metadata": {},
   "outputs": [
    {
     "name": "stdout",
     "output_type": "stream",
     "text": [
      "+----------+--------+-------+-------+--------+-----------+--------+-----------+-------------+----------+----------+------------+------------+-----------+-----------+-----------+-----------+--------+--------+-------+-------+---------+------------+\n",
      "|      Date|Location|MinTemp|MaxTemp|Rainfall|Evaporation|Sunshine|WindGustDir|WindGustSpeed|WindDir9am|WindDir3pm|WindSpeed9am|WindSpeed3pm|Humidity9am|Humidity3pm|Pressure9am|Pressure3pm|Cloud9am|Cloud3pm|Temp9am|Temp3pm|RainToday|RainTomorrow|\n",
      "+----------+--------+-------+-------+--------+-----------+--------+-----------+-------------+----------+----------+------------+------------+-----------+-----------+-----------+-----------+--------+--------+-------+-------+---------+------------+\n",
      "|2008-12-01|  Albury|   13.4|   22.9|     0.6|         NA|      NA|          W|           44|         W|       WNW|          20|          24|         71|         22|     1007.7|     1007.1|       8|      NA|   16.9|   21.8|       No|          No|\n",
      "|2008-12-02|  Albury|    7.4|   25.1|       0|         NA|      NA|        WNW|           44|       NNW|       WSW|           4|          22|         44|         25|     1010.6|     1007.8|      NA|      NA|   17.2|   24.3|       No|          No|\n",
      "|2008-12-03|  Albury|   12.9|   25.7|       0|         NA|      NA|        WSW|           46|         W|       WSW|          19|          26|         38|         30|     1007.6|     1008.7|      NA|       2|     21|   23.2|       No|          No|\n",
      "|2008-12-04|  Albury|    9.2|     28|       0|         NA|      NA|         NE|           24|        SE|         E|          11|           9|         45|         16|     1017.6|     1012.8|      NA|      NA|   18.1|   26.5|       No|          No|\n",
      "|2008-12-05|  Albury|   17.5|   32.3|       1|         NA|      NA|          W|           41|       ENE|        NW|           7|          20|         82|         33|     1010.8|       1006|       7|       8|   17.8|   29.7|       No|          No|\n",
      "+----------+--------+-------+-------+--------+-----------+--------+-----------+-------------+----------+----------+------------+------------+-----------+-----------+-----------+-----------+--------+--------+-------+-------+---------+------------+\n",
      "only showing top 5 rows\n",
      "\n"
     ]
    }
   ],
   "source": [
    "df.show(5)"
   ]
  },
  {
   "cell_type": "code",
   "execution_count": 88,
   "metadata": {},
   "outputs": [
    {
     "name": "stderr",
     "output_type": "stream",
     "text": [
      "\r",
      "[Stage 343:>                                                        (0 + 1) / 1]\r"
     ]
    },
    {
     "name": "stdout",
     "output_type": "stream",
     "text": [
      "+-------+----------+--------+-----------------+------------------+-----------------+------------------+------------------+-----------+------------------+----------+----------+------------------+------------------+------------------+-----------------+------------------+------------------+------------------+------------------+------------------+------------------+---------+------------+\n",
      "|summary|      Date|Location|          MinTemp|           MaxTemp|         Rainfall|       Evaporation|          Sunshine|WindGustDir|     WindGustSpeed|WindDir9am|WindDir3pm|      WindSpeed9am|      WindSpeed3pm|       Humidity9am|      Humidity3pm|       Pressure9am|       Pressure3pm|          Cloud9am|          Cloud3pm|           Temp9am|           Temp3pm|RainToday|RainTomorrow|\n",
      "+-------+----------+--------+-----------------+------------------+-----------------+------------------+------------------+-----------+------------------+----------+----------+------------------+------------------+------------------+-----------------+------------------+------------------+------------------+------------------+------------------+------------------+---------+------------+\n",
      "|  count|    145460|  145460|           145460|            145460|           145460|            145460|            145460|     145460|            145460|    145460|    145460|            145460|            145460|            145460|           145460|            145460|            145460|            145460|            145460|            145460|            145460|   145460|      145460|\n",
      "|   mean|      null|    null|12.19403438096871|23.221348275647003|2.360918149917032| 5.468231522922464| 7.611177520661145|       null| 40.03523007167319|      null|      null|14.043425914971502|18.662656778887342| 68.88083133761887| 51.5391158755046|1017.6499397983179|1015.2558888309775|4.4474612602152455| 4.509930082924903|16.990631415587448|21.683390318009447|     null|        null|\n",
      "| stddev|      null|    null|6.398494975663245| 7.119048845979164| 8.47805973772643|4.1937040941517845|3.7854829647401895|       null|13.607062267381453|      null|      null| 8.915375322679417| 8.809800021251553|19.029164451844203|20.79590165602125| 7.106530287523052| 7.037413808168252|2.8871588535172426|2.7203573103324774| 6.488753140877319| 6.936650460035552|     null|        null|\n",
      "|    min|2007-11-01|Adelaide|             -0.1|              -0.1|                0|                 0|                 0|          E|               100|         E|         E|                 0|                 0|                 0|                0|              1000|              1000|                 0|                 0|              -0.1|              -0.1|       NA|          NA|\n",
      "|    max|2017-06-25| Woomera|               NA|                NA|               NA|                NA|                NA|        WSW|                NA|       WSW|       WSW|                NA|                NA|                NA|               NA|                NA|                NA|                NA|                NA|                NA|                NA|      Yes|         Yes|\n",
      "+-------+----------+--------+-----------------+------------------+-----------------+------------------+------------------+-----------+------------------+----------+----------+------------------+------------------+------------------+-----------------+------------------+------------------+------------------+------------------+------------------+------------------+---------+------------+\n",
      "\n"
     ]
    },
    {
     "name": "stderr",
     "output_type": "stream",
     "text": [
      "\r",
      "                                                                                \r"
     ]
    }
   ],
   "source": [
    "df.describe().show()"
   ]
  },
  {
   "cell_type": "code",
   "execution_count": 130,
   "metadata": {},
   "outputs": [
    {
     "name": "stdout",
     "output_type": "stream",
     "text": [
      "root\n",
      " |-- Date: string (nullable = true)\n",
      " |-- Location: string (nullable = true)\n",
      " |-- MinTemp: string (nullable = true)\n",
      " |-- MaxTemp: string (nullable = true)\n",
      " |-- Rainfall: string (nullable = true)\n",
      " |-- Evaporation: string (nullable = true)\n",
      " |-- Sunshine: string (nullable = true)\n",
      " |-- WindGustDir: string (nullable = true)\n",
      " |-- WindGustSpeed: string (nullable = true)\n",
      " |-- WindDir9am: string (nullable = true)\n",
      " |-- WindDir3pm: string (nullable = true)\n",
      " |-- WindSpeed9am: string (nullable = true)\n",
      " |-- WindSpeed3pm: string (nullable = true)\n",
      " |-- Humidity9am: string (nullable = true)\n",
      " |-- Humidity3pm: string (nullable = true)\n",
      " |-- Pressure9am: string (nullable = true)\n",
      " |-- Pressure3pm: string (nullable = true)\n",
      " |-- Cloud9am: string (nullable = true)\n",
      " |-- Cloud3pm: string (nullable = true)\n",
      " |-- Temp9am: string (nullable = true)\n",
      " |-- Temp3pm: string (nullable = true)\n",
      " |-- RainToday: string (nullable = true)\n",
      " |-- RainTomorrow: string (nullable = true)\n",
      "\n"
     ]
    }
   ],
   "source": [
    "df.printSchema()"
   ]
  },
  {
   "cell_type": "code",
   "execution_count": 90,
   "metadata": {},
   "outputs": [],
   "source": [
    "import pandas as pd "
   ]
  },
  {
   "cell_type": "code",
   "execution_count": 166,
   "metadata": {},
   "outputs": [],
   "source": [
    "df = df.drop(*(\"Date\",\"Location\"))\n",
    "cols = df.columns"
   ]
  },
  {
   "cell_type": "code",
   "execution_count": 167,
   "metadata": {},
   "outputs": [],
   "source": [
    "cols1 = ['WindGustDir','WindDir9am','WindDir3pm','RainToday','RainTomorrow']\n",
    "for i in cols1:\n",
    "    cols.remove(i)"
   ]
  },
  {
   "cell_type": "code",
   "execution_count": 133,
   "metadata": {},
   "outputs": [
    {
     "data": {
      "text/plain": [
       "['MinTemp',\n",
       " 'MaxTemp',\n",
       " 'Rainfall',\n",
       " 'Evaporation',\n",
       " 'Sunshine',\n",
       " 'WindGustSpeed',\n",
       " 'WindSpeed9am',\n",
       " 'WindSpeed3pm',\n",
       " 'Humidity9am',\n",
       " 'Humidity3pm',\n",
       " 'Pressure9am',\n",
       " 'Pressure3pm',\n",
       " 'Cloud9am',\n",
       " 'Cloud3pm',\n",
       " 'Temp9am',\n",
       " 'Temp3pm']"
      ]
     },
     "execution_count": 133,
     "metadata": {},
     "output_type": "execute_result"
    }
   ],
   "source": [
    "cols"
   ]
  },
  {
   "cell_type": "code",
   "execution_count": 168,
   "metadata": {},
   "outputs": [],
   "source": [
    "\n",
    "from pyspark.sql.functions import col\n",
    "for col_name in cols:\n",
    "    df = df.withColumn(col_name, col(col_name).cast('float'))"
   ]
  },
  {
   "cell_type": "code",
   "execution_count": 135,
   "metadata": {},
   "outputs": [
    {
     "name": "stdout",
     "output_type": "stream",
     "text": [
      "root\n",
      " |-- MinTemp: float (nullable = true)\n",
      " |-- MaxTemp: float (nullable = true)\n",
      " |-- Rainfall: float (nullable = true)\n",
      " |-- Evaporation: float (nullable = true)\n",
      " |-- Sunshine: float (nullable = true)\n",
      " |-- WindGustDir: string (nullable = true)\n",
      " |-- WindGustSpeed: float (nullable = true)\n",
      " |-- WindDir9am: string (nullable = true)\n",
      " |-- WindDir3pm: string (nullable = true)\n",
      " |-- WindSpeed9am: float (nullable = true)\n",
      " |-- WindSpeed3pm: float (nullable = true)\n",
      " |-- Humidity9am: float (nullable = true)\n",
      " |-- Humidity3pm: float (nullable = true)\n",
      " |-- Pressure9am: float (nullable = true)\n",
      " |-- Pressure3pm: float (nullable = true)\n",
      " |-- Cloud9am: float (nullable = true)\n",
      " |-- Cloud3pm: float (nullable = true)\n",
      " |-- Temp9am: float (nullable = true)\n",
      " |-- Temp3pm: float (nullable = true)\n",
      " |-- RainToday: string (nullable = true)\n",
      " |-- RainTomorrow: string (nullable = true)\n",
      "\n"
     ]
    }
   ],
   "source": [
    "df.printSchema()"
   ]
  },
  {
   "cell_type": "code",
   "execution_count": 169,
   "metadata": {},
   "outputs": [
    {
     "name": "stderr",
     "output_type": "stream",
     "text": [
      "\r",
      "[Stage 873:>                                                        (0 + 1) / 1]\r"
     ]
    },
    {
     "name": "stdout",
     "output_type": "stream",
     "text": [
      "+-------+-------+--------+-----------+--------+-----------+-------------+----------+----------+------------+------------+-----------+-----------+-----------+-----------+--------+--------+-------+-------+---------+------------+\n",
      "|MinTemp|MaxTemp|Rainfall|Evaporation|Sunshine|WindGustDir|WindGustSpeed|WindDir9am|WindDir3pm|WindSpeed9am|WindSpeed3pm|Humidity9am|Humidity3pm|Pressure9am|Pressure3pm|Cloud9am|Cloud3pm|Temp9am|Temp3pm|RainToday|RainTomorrow|\n",
      "+-------+-------+--------+-----------+--------+-----------+-------------+----------+----------+------------+------------+-----------+-----------+-----------+-----------+--------+--------+-------+-------+---------+------------+\n",
      "|   1485|   1261|    3261|      62790|   69835|          0|        10263|         0|         0|        1767|        3062|       2654|       4507|      15065|      15028|   55888|   59358|   1767|   3609|        0|           0|\n",
      "+-------+-------+--------+-----------+--------+-----------+-------------+----------+----------+------------+------------+-----------+-----------+-----------+-----------+--------+--------+-------+-------+---------+------------+\n",
      "\n"
     ]
    },
    {
     "name": "stderr",
     "output_type": "stream",
     "text": [
      "\r",
      "                                                                                \r"
     ]
    }
   ],
   "source": [
    "from pyspark.sql.functions import col,isnan, when, count\n",
    "df.select([count(when(isnan(c) | col(c).isNull(), c)).alias(c) for c in df.columns]).show()"
   ]
  },
  {
   "cell_type": "code",
   "execution_count": 97,
   "metadata": {},
   "outputs": [
    {
     "data": {
      "text/plain": [
       "145460"
      ]
     },
     "execution_count": 97,
     "metadata": {},
     "output_type": "execute_result"
    }
   ],
   "source": [
    "df.count()"
   ]
  },
  {
   "cell_type": "code",
   "execution_count": 136,
   "metadata": {},
   "outputs": [
    {
     "data": {
      "text/plain": [
       "{'MinTemp': 1485,\n",
       " 'MaxTemp': 1261,\n",
       " 'Rainfall': 3261,\n",
       " 'Evaporation': 62790,\n",
       " 'Sunshine': 69835,\n",
       " 'WindGustDir': 0,\n",
       " 'WindGustSpeed': 10263,\n",
       " 'WindDir9am': 0,\n",
       " 'WindDir3pm': 0,\n",
       " 'WindSpeed9am': 1767,\n",
       " 'WindSpeed3pm': 3062,\n",
       " 'Humidity9am': 2654,\n",
       " 'Humidity3pm': 4507,\n",
       " 'Pressure9am': 15065,\n",
       " 'Pressure3pm': 15028,\n",
       " 'Cloud9am': 55888,\n",
       " 'Cloud3pm': 59358,\n",
       " 'Temp9am': 1767,\n",
       " 'Temp3pm': 3609,\n",
       " 'RainToday': 0,\n",
       " 'RainTomorrow': 0}"
      ]
     },
     "execution_count": 136,
     "metadata": {},
     "output_type": "execute_result"
    }
   ],
   "source": [
    "Dict_Null = {col:df.filter(df[col].isNull()).count() for col in df.columns}\n",
    "Dict_Null"
   ]
  },
  {
   "cell_type": "code",
   "execution_count": 170,
   "metadata": {},
   "outputs": [],
   "source": [
    "df= df.drop(*('Sunshine','Evaporation',))"
   ]
  },
  {
   "cell_type": "code",
   "execution_count": 171,
   "metadata": {},
   "outputs": [],
   "source": [
    "df = df.fillna( { 'Cloud9am':0, 'Cloud3pm':0 } )"
   ]
  },
  {
   "cell_type": "code",
   "execution_count": 172,
   "metadata": {},
   "outputs": [
    {
     "data": {
      "text/plain": [
       "{'MinTemp': 1485,\n",
       " 'MaxTemp': 1261,\n",
       " 'Rainfall': 3261,\n",
       " 'WindGustDir': 0,\n",
       " 'WindGustSpeed': 10263,\n",
       " 'WindDir9am': 0,\n",
       " 'WindDir3pm': 0,\n",
       " 'WindSpeed9am': 1767,\n",
       " 'WindSpeed3pm': 3062,\n",
       " 'Humidity9am': 2654,\n",
       " 'Humidity3pm': 4507,\n",
       " 'Pressure9am': 15065,\n",
       " 'Pressure3pm': 15028,\n",
       " 'Cloud9am': 0,\n",
       " 'Cloud3pm': 0,\n",
       " 'Temp9am': 1767,\n",
       " 'Temp3pm': 3609,\n",
       " 'RainToday': 0,\n",
       " 'RainTomorrow': 0}"
      ]
     },
     "execution_count": 172,
     "metadata": {},
     "output_type": "execute_result"
    }
   ],
   "source": [
    "Dict_Null = {col:df.filter(df[col].isNull()).count() for col in df.columns}\n",
    "Dict_Null"
   ]
  },
  {
   "cell_type": "code",
   "execution_count": 176,
   "metadata": {},
   "outputs": [
    {
     "data": {
      "text/plain": [
       "[Row(RainToday='No'), Row(RainToday='Yes')]"
      ]
     },
     "execution_count": 176,
     "metadata": {},
     "output_type": "execute_result"
    }
   ],
   "source": [
    "df.select('RainToday').distinct().collect()"
   ]
  },
  {
   "cell_type": "code",
   "execution_count": 174,
   "metadata": {},
   "outputs": [],
   "source": [
    "df=df.where(\"RainToday!='NA'\")"
   ]
  },
  {
   "cell_type": "code",
   "execution_count": 177,
   "metadata": {},
   "outputs": [
    {
     "data": {
      "text/plain": [
       "[Row(RainTomorrow='NA'), Row(RainTomorrow='No'), Row(RainTomorrow='Yes')]"
      ]
     },
     "execution_count": 177,
     "metadata": {},
     "output_type": "execute_result"
    }
   ],
   "source": [
    "df.select('RainTomorrow').distinct().collect()"
   ]
  },
  {
   "cell_type": "code",
   "execution_count": 178,
   "metadata": {},
   "outputs": [],
   "source": [
    "df=df.where(\"RainTomorrow!='NA'\")"
   ]
  },
  {
   "cell_type": "code",
   "execution_count": 179,
   "metadata": {},
   "outputs": [],
   "source": [
    "from pyspark.ml.feature import OneHotEncoder\n",
    "from pyspark.ml.feature import StringIndexer\n",
    "from pyspark.ml import Pipeline\n",
    "Rain_Today = StringIndexer(inputCol=\"RainToday\", outputCol=\"Rain_Today\")\n",
    "Rain_Tomorrow = StringIndexer(inputCol=\"RainTomorrow\", outputCol=\"Rain_Tomorrow\")\n",
    "WindGustDir_indexer = StringIndexer(inputCol=\"WindGustDir\", outputCol=\"WindGustDirIndex\")\n",
    "WindDir9am_indexer = StringIndexer(inputCol=\"WindDir9am\", outputCol=\"WindDir9amIndex\")\n",
    "WindDir3pm_indexer = StringIndexer(inputCol=\"WindDir3pm\", outputCol=\"WindDir3pmIndex\")\n",
    "onehotencoder_WindGustDir_vector = OneHotEncoder(inputCol=\"WindGustDirIndex\", outputCol=\"WindGustDir_vec\")\n",
    "onehotencoder_WindDir9am_vector = OneHotEncoder(inputCol=\"WindDir9amIndex\", outputCol=\"WindDir9am_vec\")\n",
    "onehotencoder_WindDir3pm_vector = OneHotEncoder(inputCol=\"WindDir3pmIndex\", outputCol=\"WindDir3pm_vec\")\n",
    "#Create pipeline and pass all stages\n",
    "pipeline = Pipeline(stages=[WindGustDir_indexer,\n",
    "                            WindDir9am_indexer,\n",
    "                            WindDir3pm_indexer,\n",
    "                            Rain_Today,\n",
    "                            Rain_Tomorrow,\n",
    "                            onehotencoder_WindGustDir_vector,\n",
    "                            onehotencoder_WindDir9am_vector,\n",
    "                            onehotencoder_WindDir3pm_vector\n",
    "                    ])\n"
   ]
  },
  {
   "cell_type": "code",
   "execution_count": 180,
   "metadata": {},
   "outputs": [
    {
     "name": "stdout",
     "output_type": "stream",
     "text": [
      "+-------+-------+--------+-----------+-------------+----------+----------+------------+------------+-----------+-----------+-----------+-----------+--------+--------+-------+-------+---------+------------+----------------+---------------+---------------+----------+-------------+---------------+---------------+---------------+\n",
      "|MinTemp|MaxTemp|Rainfall|WindGustDir|WindGustSpeed|WindDir9am|WindDir3pm|WindSpeed9am|WindSpeed3pm|Humidity9am|Humidity3pm|Pressure9am|Pressure3pm|Cloud9am|Cloud3pm|Temp9am|Temp3pm|RainToday|RainTomorrow|WindGustDirIndex|WindDir9amIndex|WindDir3pmIndex|Rain_Today|Rain_Tomorrow|WindGustDir_vec| WindDir9am_vec| WindDir3pm_vec|\n",
      "+-------+-------+--------+-----------+-------------+----------+----------+------------+------------+-----------+-----------+-----------+-----------+--------+--------+-------+-------+---------+------------+----------------+---------------+---------------+----------+-------------+---------------+---------------+---------------+\n",
      "|   13.4|   22.9|     0.6|          W|         44.0|         W|       WNW|        20.0|        24.0|       71.0|       22.0|     1007.7|     1007.1|     8.0|     0.0|   16.9|   21.8|       No|          No|             0.0|            7.0|            7.0|       0.0|          0.0| (16,[0],[1.0])| (16,[7],[1.0])| (16,[7],[1.0])|\n",
      "|    7.4|   25.1|     0.0|        WNW|         44.0|       NNW|       WSW|         4.0|        22.0|       44.0|       25.0|     1010.6|     1007.8|     0.0|     0.0|   17.2|   24.3|       No|          No|            10.0|           10.0|            3.0|       0.0|          0.0|(16,[10],[1.0])|(16,[10],[1.0])| (16,[3],[1.0])|\n",
      "|   12.9|   25.7|     0.0|        WSW|         46.0|         W|       WSW|        19.0|        26.0|       38.0|       30.0|     1007.6|     1008.7|     0.0|     2.0|   21.0|   23.2|       No|          No|             7.0|            7.0|            3.0|       0.0|          0.0| (16,[7],[1.0])| (16,[7],[1.0])| (16,[3],[1.0])|\n",
      "|    9.2|   28.0|     0.0|         NE|         24.0|        SE|         E|        11.0|         9.0|       45.0|       16.0|     1017.6|     1012.8|     0.0|     0.0|   18.1|   26.5|       No|          No|            14.0|            2.0|           10.0|       0.0|          0.0|(16,[14],[1.0])| (16,[2],[1.0])|(16,[10],[1.0])|\n",
      "|   17.5|   32.3|     1.0|          W|         41.0|       ENE|        NW|         7.0|        20.0|       82.0|       33.0|     1010.8|     1006.0|     7.0|     8.0|   17.8|   29.7|       No|          No|             0.0|           11.0|            8.0|       0.0|          0.0| (16,[0],[1.0])|(16,[11],[1.0])| (16,[8],[1.0])|\n",
      "+-------+-------+--------+-----------+-------------+----------+----------+------------+------------+-----------+-----------+-----------+-----------+--------+--------+-------+-------+---------+------------+----------------+---------------+---------------+----------+-------------+---------------+---------------+---------------+\n",
      "only showing top 5 rows\n",
      "\n"
     ]
    }
   ],
   "source": [
    "df_transformed = pipeline.fit(df).transform(df)\n",
    "df_transformed.show(5)"
   ]
  },
  {
   "cell_type": "code",
   "execution_count": 181,
   "metadata": {},
   "outputs": [
    {
     "name": "stderr",
     "output_type": "stream",
     "text": [
      "                                                                                \r"
     ]
    },
    {
     "data": {
      "text/html": [
       "<div>\n",
       "<style scoped>\n",
       "    .dataframe tbody tr th:only-of-type {\n",
       "        vertical-align: middle;\n",
       "    }\n",
       "\n",
       "    .dataframe tbody tr th {\n",
       "        vertical-align: top;\n",
       "    }\n",
       "\n",
       "    .dataframe thead th {\n",
       "        text-align: right;\n",
       "    }\n",
       "</style>\n",
       "<table border=\"1\" class=\"dataframe\">\n",
       "  <thead>\n",
       "    <tr style=\"text-align: right;\">\n",
       "      <th></th>\n",
       "      <th>MinTemp</th>\n",
       "      <th>MaxTemp</th>\n",
       "      <th>Rainfall</th>\n",
       "      <th>WindGustDir</th>\n",
       "      <th>WindGustSpeed</th>\n",
       "      <th>WindDir9am</th>\n",
       "      <th>WindDir3pm</th>\n",
       "      <th>WindSpeed9am</th>\n",
       "      <th>WindSpeed3pm</th>\n",
       "      <th>Humidity9am</th>\n",
       "      <th>...</th>\n",
       "      <th>RainToday</th>\n",
       "      <th>RainTomorrow</th>\n",
       "      <th>WindGustDirIndex</th>\n",
       "      <th>WindDir9amIndex</th>\n",
       "      <th>WindDir3pmIndex</th>\n",
       "      <th>Rain_Today</th>\n",
       "      <th>Rain_Tomorrow</th>\n",
       "      <th>WindGustDir_vec</th>\n",
       "      <th>WindDir9am_vec</th>\n",
       "      <th>WindDir3pm_vec</th>\n",
       "    </tr>\n",
       "  </thead>\n",
       "  <tbody>\n",
       "    <tr>\n",
       "      <th>0</th>\n",
       "      <td>13.4</td>\n",
       "      <td>22.900000</td>\n",
       "      <td>0.6</td>\n",
       "      <td>W</td>\n",
       "      <td>44.0</td>\n",
       "      <td>W</td>\n",
       "      <td>WNW</td>\n",
       "      <td>20.0</td>\n",
       "      <td>24.0</td>\n",
       "      <td>71.0</td>\n",
       "      <td>...</td>\n",
       "      <td>No</td>\n",
       "      <td>No</td>\n",
       "      <td>0.0</td>\n",
       "      <td>7.0</td>\n",
       "      <td>7.0</td>\n",
       "      <td>0.0</td>\n",
       "      <td>0.0</td>\n",
       "      <td>(1.0, 0.0, 0.0, 0.0, 0.0, 0.0, 0.0, 0.0, 0.0, ...</td>\n",
       "      <td>(0.0, 0.0, 0.0, 0.0, 0.0, 0.0, 0.0, 1.0, 0.0, ...</td>\n",
       "      <td>(0.0, 0.0, 0.0, 0.0, 0.0, 0.0, 0.0, 1.0, 0.0, ...</td>\n",
       "    </tr>\n",
       "    <tr>\n",
       "      <th>1</th>\n",
       "      <td>7.4</td>\n",
       "      <td>25.100000</td>\n",
       "      <td>0.0</td>\n",
       "      <td>WNW</td>\n",
       "      <td>44.0</td>\n",
       "      <td>NNW</td>\n",
       "      <td>WSW</td>\n",
       "      <td>4.0</td>\n",
       "      <td>22.0</td>\n",
       "      <td>44.0</td>\n",
       "      <td>...</td>\n",
       "      <td>No</td>\n",
       "      <td>No</td>\n",
       "      <td>10.0</td>\n",
       "      <td>10.0</td>\n",
       "      <td>3.0</td>\n",
       "      <td>0.0</td>\n",
       "      <td>0.0</td>\n",
       "      <td>(0.0, 0.0, 0.0, 0.0, 0.0, 0.0, 0.0, 0.0, 0.0, ...</td>\n",
       "      <td>(0.0, 0.0, 0.0, 0.0, 0.0, 0.0, 0.0, 0.0, 0.0, ...</td>\n",
       "      <td>(0.0, 0.0, 0.0, 1.0, 0.0, 0.0, 0.0, 0.0, 0.0, ...</td>\n",
       "    </tr>\n",
       "    <tr>\n",
       "      <th>2</th>\n",
       "      <td>12.9</td>\n",
       "      <td>25.700001</td>\n",
       "      <td>0.0</td>\n",
       "      <td>WSW</td>\n",
       "      <td>46.0</td>\n",
       "      <td>W</td>\n",
       "      <td>WSW</td>\n",
       "      <td>19.0</td>\n",
       "      <td>26.0</td>\n",
       "      <td>38.0</td>\n",
       "      <td>...</td>\n",
       "      <td>No</td>\n",
       "      <td>No</td>\n",
       "      <td>7.0</td>\n",
       "      <td>7.0</td>\n",
       "      <td>3.0</td>\n",
       "      <td>0.0</td>\n",
       "      <td>0.0</td>\n",
       "      <td>(0.0, 0.0, 0.0, 0.0, 0.0, 0.0, 0.0, 1.0, 0.0, ...</td>\n",
       "      <td>(0.0, 0.0, 0.0, 0.0, 0.0, 0.0, 0.0, 1.0, 0.0, ...</td>\n",
       "      <td>(0.0, 0.0, 0.0, 1.0, 0.0, 0.0, 0.0, 0.0, 0.0, ...</td>\n",
       "    </tr>\n",
       "    <tr>\n",
       "      <th>3</th>\n",
       "      <td>9.2</td>\n",
       "      <td>28.000000</td>\n",
       "      <td>0.0</td>\n",
       "      <td>NE</td>\n",
       "      <td>24.0</td>\n",
       "      <td>SE</td>\n",
       "      <td>E</td>\n",
       "      <td>11.0</td>\n",
       "      <td>9.0</td>\n",
       "      <td>45.0</td>\n",
       "      <td>...</td>\n",
       "      <td>No</td>\n",
       "      <td>No</td>\n",
       "      <td>14.0</td>\n",
       "      <td>2.0</td>\n",
       "      <td>10.0</td>\n",
       "      <td>0.0</td>\n",
       "      <td>0.0</td>\n",
       "      <td>(0.0, 0.0, 0.0, 0.0, 0.0, 0.0, 0.0, 0.0, 0.0, ...</td>\n",
       "      <td>(0.0, 0.0, 1.0, 0.0, 0.0, 0.0, 0.0, 0.0, 0.0, ...</td>\n",
       "      <td>(0.0, 0.0, 0.0, 0.0, 0.0, 0.0, 0.0, 0.0, 0.0, ...</td>\n",
       "    </tr>\n",
       "    <tr>\n",
       "      <th>4</th>\n",
       "      <td>17.5</td>\n",
       "      <td>32.299999</td>\n",
       "      <td>1.0</td>\n",
       "      <td>W</td>\n",
       "      <td>41.0</td>\n",
       "      <td>ENE</td>\n",
       "      <td>NW</td>\n",
       "      <td>7.0</td>\n",
       "      <td>20.0</td>\n",
       "      <td>82.0</td>\n",
       "      <td>...</td>\n",
       "      <td>No</td>\n",
       "      <td>No</td>\n",
       "      <td>0.0</td>\n",
       "      <td>11.0</td>\n",
       "      <td>8.0</td>\n",
       "      <td>0.0</td>\n",
       "      <td>0.0</td>\n",
       "      <td>(1.0, 0.0, 0.0, 0.0, 0.0, 0.0, 0.0, 0.0, 0.0, ...</td>\n",
       "      <td>(0.0, 0.0, 0.0, 0.0, 0.0, 0.0, 0.0, 0.0, 0.0, ...</td>\n",
       "      <td>(0.0, 0.0, 0.0, 0.0, 0.0, 0.0, 0.0, 0.0, 1.0, ...</td>\n",
       "    </tr>\n",
       "    <tr>\n",
       "      <th>...</th>\n",
       "      <td>...</td>\n",
       "      <td>...</td>\n",
       "      <td>...</td>\n",
       "      <td>...</td>\n",
       "      <td>...</td>\n",
       "      <td>...</td>\n",
       "      <td>...</td>\n",
       "      <td>...</td>\n",
       "      <td>...</td>\n",
       "      <td>...</td>\n",
       "      <td>...</td>\n",
       "      <td>...</td>\n",
       "      <td>...</td>\n",
       "      <td>...</td>\n",
       "      <td>...</td>\n",
       "      <td>...</td>\n",
       "      <td>...</td>\n",
       "      <td>...</td>\n",
       "      <td>...</td>\n",
       "      <td>...</td>\n",
       "      <td>...</td>\n",
       "    </tr>\n",
       "    <tr>\n",
       "      <th>140782</th>\n",
       "      <td>3.5</td>\n",
       "      <td>21.799999</td>\n",
       "      <td>0.0</td>\n",
       "      <td>E</td>\n",
       "      <td>31.0</td>\n",
       "      <td>ESE</td>\n",
       "      <td>E</td>\n",
       "      <td>15.0</td>\n",
       "      <td>13.0</td>\n",
       "      <td>59.0</td>\n",
       "      <td>...</td>\n",
       "      <td>No</td>\n",
       "      <td>No</td>\n",
       "      <td>3.0</td>\n",
       "      <td>12.0</td>\n",
       "      <td>10.0</td>\n",
       "      <td>0.0</td>\n",
       "      <td>0.0</td>\n",
       "      <td>(0.0, 0.0, 0.0, 1.0, 0.0, 0.0, 0.0, 0.0, 0.0, ...</td>\n",
       "      <td>(0.0, 0.0, 0.0, 0.0, 0.0, 0.0, 0.0, 0.0, 0.0, ...</td>\n",
       "      <td>(0.0, 0.0, 0.0, 0.0, 0.0, 0.0, 0.0, 0.0, 0.0, ...</td>\n",
       "    </tr>\n",
       "    <tr>\n",
       "      <th>140783</th>\n",
       "      <td>2.8</td>\n",
       "      <td>23.400000</td>\n",
       "      <td>0.0</td>\n",
       "      <td>E</td>\n",
       "      <td>31.0</td>\n",
       "      <td>SE</td>\n",
       "      <td>ENE</td>\n",
       "      <td>13.0</td>\n",
       "      <td>11.0</td>\n",
       "      <td>51.0</td>\n",
       "      <td>...</td>\n",
       "      <td>No</td>\n",
       "      <td>No</td>\n",
       "      <td>3.0</td>\n",
       "      <td>2.0</td>\n",
       "      <td>14.0</td>\n",
       "      <td>0.0</td>\n",
       "      <td>0.0</td>\n",
       "      <td>(0.0, 0.0, 0.0, 1.0, 0.0, 0.0, 0.0, 0.0, 0.0, ...</td>\n",
       "      <td>(0.0, 0.0, 1.0, 0.0, 0.0, 0.0, 0.0, 0.0, 0.0, ...</td>\n",
       "      <td>(0.0, 0.0, 0.0, 0.0, 0.0, 0.0, 0.0, 0.0, 0.0, ...</td>\n",
       "    </tr>\n",
       "    <tr>\n",
       "      <th>140784</th>\n",
       "      <td>3.6</td>\n",
       "      <td>25.299999</td>\n",
       "      <td>0.0</td>\n",
       "      <td>NNW</td>\n",
       "      <td>22.0</td>\n",
       "      <td>SE</td>\n",
       "      <td>N</td>\n",
       "      <td>13.0</td>\n",
       "      <td>9.0</td>\n",
       "      <td>56.0</td>\n",
       "      <td>...</td>\n",
       "      <td>No</td>\n",
       "      <td>No</td>\n",
       "      <td>15.0</td>\n",
       "      <td>2.0</td>\n",
       "      <td>6.0</td>\n",
       "      <td>0.0</td>\n",
       "      <td>0.0</td>\n",
       "      <td>(0.0, 0.0, 0.0, 0.0, 0.0, 0.0, 0.0, 0.0, 0.0, ...</td>\n",
       "      <td>(0.0, 0.0, 1.0, 0.0, 0.0, 0.0, 0.0, 0.0, 0.0, ...</td>\n",
       "      <td>(0.0, 0.0, 0.0, 0.0, 0.0, 0.0, 1.0, 0.0, 0.0, ...</td>\n",
       "    </tr>\n",
       "    <tr>\n",
       "      <th>140785</th>\n",
       "      <td>5.4</td>\n",
       "      <td>26.900000</td>\n",
       "      <td>0.0</td>\n",
       "      <td>N</td>\n",
       "      <td>37.0</td>\n",
       "      <td>SE</td>\n",
       "      <td>WNW</td>\n",
       "      <td>9.0</td>\n",
       "      <td>9.0</td>\n",
       "      <td>53.0</td>\n",
       "      <td>...</td>\n",
       "      <td>No</td>\n",
       "      <td>No</td>\n",
       "      <td>4.0</td>\n",
       "      <td>2.0</td>\n",
       "      <td>7.0</td>\n",
       "      <td>0.0</td>\n",
       "      <td>0.0</td>\n",
       "      <td>(0.0, 0.0, 0.0, 0.0, 1.0, 0.0, 0.0, 0.0, 0.0, ...</td>\n",
       "      <td>(0.0, 0.0, 1.0, 0.0, 0.0, 0.0, 0.0, 0.0, 0.0, ...</td>\n",
       "      <td>(0.0, 0.0, 0.0, 0.0, 0.0, 0.0, 0.0, 1.0, 0.0, ...</td>\n",
       "    </tr>\n",
       "    <tr>\n",
       "      <th>140786</th>\n",
       "      <td>7.8</td>\n",
       "      <td>27.000000</td>\n",
       "      <td>0.0</td>\n",
       "      <td>SE</td>\n",
       "      <td>28.0</td>\n",
       "      <td>SSE</td>\n",
       "      <td>N</td>\n",
       "      <td>13.0</td>\n",
       "      <td>7.0</td>\n",
       "      <td>51.0</td>\n",
       "      <td>...</td>\n",
       "      <td>No</td>\n",
       "      <td>No</td>\n",
       "      <td>1.0</td>\n",
       "      <td>4.0</td>\n",
       "      <td>6.0</td>\n",
       "      <td>0.0</td>\n",
       "      <td>0.0</td>\n",
       "      <td>(0.0, 1.0, 0.0, 0.0, 0.0, 0.0, 0.0, 0.0, 0.0, ...</td>\n",
       "      <td>(0.0, 0.0, 0.0, 0.0, 1.0, 0.0, 0.0, 0.0, 0.0, ...</td>\n",
       "      <td>(0.0, 0.0, 0.0, 0.0, 0.0, 0.0, 1.0, 0.0, 0.0, ...</td>\n",
       "    </tr>\n",
       "  </tbody>\n",
       "</table>\n",
       "<p>140787 rows × 27 columns</p>\n",
       "</div>"
      ],
      "text/plain": [
       "        MinTemp    MaxTemp  Rainfall WindGustDir  WindGustSpeed WindDir9am  \\\n",
       "0          13.4  22.900000       0.6           W           44.0          W   \n",
       "1           7.4  25.100000       0.0         WNW           44.0        NNW   \n",
       "2          12.9  25.700001       0.0         WSW           46.0          W   \n",
       "3           9.2  28.000000       0.0          NE           24.0         SE   \n",
       "4          17.5  32.299999       1.0           W           41.0        ENE   \n",
       "...         ...        ...       ...         ...            ...        ...   \n",
       "140782      3.5  21.799999       0.0           E           31.0        ESE   \n",
       "140783      2.8  23.400000       0.0           E           31.0         SE   \n",
       "140784      3.6  25.299999       0.0         NNW           22.0         SE   \n",
       "140785      5.4  26.900000       0.0           N           37.0         SE   \n",
       "140786      7.8  27.000000       0.0          SE           28.0        SSE   \n",
       "\n",
       "       WindDir3pm  WindSpeed9am  WindSpeed3pm  Humidity9am  ...  RainToday  \\\n",
       "0             WNW          20.0          24.0         71.0  ...         No   \n",
       "1             WSW           4.0          22.0         44.0  ...         No   \n",
       "2             WSW          19.0          26.0         38.0  ...         No   \n",
       "3               E          11.0           9.0         45.0  ...         No   \n",
       "4              NW           7.0          20.0         82.0  ...         No   \n",
       "...           ...           ...           ...          ...  ...        ...   \n",
       "140782          E          15.0          13.0         59.0  ...         No   \n",
       "140783        ENE          13.0          11.0         51.0  ...         No   \n",
       "140784          N          13.0           9.0         56.0  ...         No   \n",
       "140785        WNW           9.0           9.0         53.0  ...         No   \n",
       "140786          N          13.0           7.0         51.0  ...         No   \n",
       "\n",
       "        RainTomorrow  WindGustDirIndex  WindDir9amIndex  WindDir3pmIndex  \\\n",
       "0                 No               0.0              7.0              7.0   \n",
       "1                 No              10.0             10.0              3.0   \n",
       "2                 No               7.0              7.0              3.0   \n",
       "3                 No              14.0              2.0             10.0   \n",
       "4                 No               0.0             11.0              8.0   \n",
       "...              ...               ...              ...              ...   \n",
       "140782            No               3.0             12.0             10.0   \n",
       "140783            No               3.0              2.0             14.0   \n",
       "140784            No              15.0              2.0              6.0   \n",
       "140785            No               4.0              2.0              7.0   \n",
       "140786            No               1.0              4.0              6.0   \n",
       "\n",
       "        Rain_Today  Rain_Tomorrow  \\\n",
       "0              0.0            0.0   \n",
       "1              0.0            0.0   \n",
       "2              0.0            0.0   \n",
       "3              0.0            0.0   \n",
       "4              0.0            0.0   \n",
       "...            ...            ...   \n",
       "140782         0.0            0.0   \n",
       "140783         0.0            0.0   \n",
       "140784         0.0            0.0   \n",
       "140785         0.0            0.0   \n",
       "140786         0.0            0.0   \n",
       "\n",
       "                                          WindGustDir_vec  \\\n",
       "0       (1.0, 0.0, 0.0, 0.0, 0.0, 0.0, 0.0, 0.0, 0.0, ...   \n",
       "1       (0.0, 0.0, 0.0, 0.0, 0.0, 0.0, 0.0, 0.0, 0.0, ...   \n",
       "2       (0.0, 0.0, 0.0, 0.0, 0.0, 0.0, 0.0, 1.0, 0.0, ...   \n",
       "3       (0.0, 0.0, 0.0, 0.0, 0.0, 0.0, 0.0, 0.0, 0.0, ...   \n",
       "4       (1.0, 0.0, 0.0, 0.0, 0.0, 0.0, 0.0, 0.0, 0.0, ...   \n",
       "...                                                   ...   \n",
       "140782  (0.0, 0.0, 0.0, 1.0, 0.0, 0.0, 0.0, 0.0, 0.0, ...   \n",
       "140783  (0.0, 0.0, 0.0, 1.0, 0.0, 0.0, 0.0, 0.0, 0.0, ...   \n",
       "140784  (0.0, 0.0, 0.0, 0.0, 0.0, 0.0, 0.0, 0.0, 0.0, ...   \n",
       "140785  (0.0, 0.0, 0.0, 0.0, 1.0, 0.0, 0.0, 0.0, 0.0, ...   \n",
       "140786  (0.0, 1.0, 0.0, 0.0, 0.0, 0.0, 0.0, 0.0, 0.0, ...   \n",
       "\n",
       "                                           WindDir9am_vec  \\\n",
       "0       (0.0, 0.0, 0.0, 0.0, 0.0, 0.0, 0.0, 1.0, 0.0, ...   \n",
       "1       (0.0, 0.0, 0.0, 0.0, 0.0, 0.0, 0.0, 0.0, 0.0, ...   \n",
       "2       (0.0, 0.0, 0.0, 0.0, 0.0, 0.0, 0.0, 1.0, 0.0, ...   \n",
       "3       (0.0, 0.0, 1.0, 0.0, 0.0, 0.0, 0.0, 0.0, 0.0, ...   \n",
       "4       (0.0, 0.0, 0.0, 0.0, 0.0, 0.0, 0.0, 0.0, 0.0, ...   \n",
       "...                                                   ...   \n",
       "140782  (0.0, 0.0, 0.0, 0.0, 0.0, 0.0, 0.0, 0.0, 0.0, ...   \n",
       "140783  (0.0, 0.0, 1.0, 0.0, 0.0, 0.0, 0.0, 0.0, 0.0, ...   \n",
       "140784  (0.0, 0.0, 1.0, 0.0, 0.0, 0.0, 0.0, 0.0, 0.0, ...   \n",
       "140785  (0.0, 0.0, 1.0, 0.0, 0.0, 0.0, 0.0, 0.0, 0.0, ...   \n",
       "140786  (0.0, 0.0, 0.0, 0.0, 1.0, 0.0, 0.0, 0.0, 0.0, ...   \n",
       "\n",
       "                                           WindDir3pm_vec  \n",
       "0       (0.0, 0.0, 0.0, 0.0, 0.0, 0.0, 0.0, 1.0, 0.0, ...  \n",
       "1       (0.0, 0.0, 0.0, 1.0, 0.0, 0.0, 0.0, 0.0, 0.0, ...  \n",
       "2       (0.0, 0.0, 0.0, 1.0, 0.0, 0.0, 0.0, 0.0, 0.0, ...  \n",
       "3       (0.0, 0.0, 0.0, 0.0, 0.0, 0.0, 0.0, 0.0, 0.0, ...  \n",
       "4       (0.0, 0.0, 0.0, 0.0, 0.0, 0.0, 0.0, 0.0, 1.0, ...  \n",
       "...                                                   ...  \n",
       "140782  (0.0, 0.0, 0.0, 0.0, 0.0, 0.0, 0.0, 0.0, 0.0, ...  \n",
       "140783  (0.0, 0.0, 0.0, 0.0, 0.0, 0.0, 0.0, 0.0, 0.0, ...  \n",
       "140784  (0.0, 0.0, 0.0, 0.0, 0.0, 0.0, 1.0, 0.0, 0.0, ...  \n",
       "140785  (0.0, 0.0, 0.0, 0.0, 0.0, 0.0, 0.0, 1.0, 0.0, ...  \n",
       "140786  (0.0, 0.0, 0.0, 0.0, 0.0, 0.0, 1.0, 0.0, 0.0, ...  \n",
       "\n",
       "[140787 rows x 27 columns]"
      ]
     },
     "execution_count": 181,
     "metadata": {},
     "output_type": "execute_result"
    }
   ],
   "source": [
    "df_transformed.toPandas()"
   ]
  },
  {
   "cell_type": "code",
   "execution_count": 182,
   "metadata": {},
   "outputs": [],
   "source": [
    "df_transformed = df_transformed.drop(*(\"WindGustDir\",\"WindDir9am\",\"WindDir3pm\",\"RainToday\",\"RainTomorrow\"))"
   ]
  },
  {
   "cell_type": "code",
   "execution_count": 183,
   "metadata": {},
   "outputs": [
    {
     "name": "stdout",
     "output_type": "stream",
     "text": [
      "root\n",
      " |-- MinTemp: float (nullable = true)\n",
      " |-- MaxTemp: float (nullable = true)\n",
      " |-- Rainfall: float (nullable = true)\n",
      " |-- WindGustSpeed: float (nullable = true)\n",
      " |-- WindSpeed9am: float (nullable = true)\n",
      " |-- WindSpeed3pm: float (nullable = true)\n",
      " |-- Humidity9am: float (nullable = true)\n",
      " |-- Humidity3pm: float (nullable = true)\n",
      " |-- Pressure9am: float (nullable = true)\n",
      " |-- Pressure3pm: float (nullable = true)\n",
      " |-- Cloud9am: float (nullable = false)\n",
      " |-- Cloud3pm: float (nullable = false)\n",
      " |-- Temp9am: float (nullable = true)\n",
      " |-- Temp3pm: float (nullable = true)\n",
      " |-- WindGustDirIndex: double (nullable = false)\n",
      " |-- WindDir9amIndex: double (nullable = false)\n",
      " |-- WindDir3pmIndex: double (nullable = false)\n",
      " |-- Rain_Today: double (nullable = false)\n",
      " |-- Rain_Tomorrow: double (nullable = false)\n",
      " |-- WindGustDir_vec: vector (nullable = true)\n",
      " |-- WindDir9am_vec: vector (nullable = true)\n",
      " |-- WindDir3pm_vec: vector (nullable = true)\n",
      "\n"
     ]
    }
   ],
   "source": [
    "df_transformed.printSchema()"
   ]
  },
  {
   "cell_type": "code",
   "execution_count": 195,
   "metadata": {},
   "outputs": [
    {
     "name": "stderr",
     "output_type": "stream",
     "text": [
      "                                                                                \r"
     ]
    },
    {
     "data": {
      "text/plain": [
       "DataFrame[MinTemp: float, MaxTemp: float, Rainfall: float, WindGustSpeed: float, WindSpeed9am: float, WindSpeed3pm: float, Humidity9am: float, Humidity3pm: float, Pressure9am: float, Pressure3pm: float, Cloud9am: float, Cloud3pm: float, Temp9am: float, Temp3pm: float, Rain_Today: double, Rain_Tomorrow: double, MinTemp_imputed: float, MaxTemp_imputed: float, Rainfall_imputed: float, WindGustSpeed_imputed: float, WindSpeed9am_imputed: float, WindSpeed3pm_imputed: float, Humidity9am_imputed: float, Humidity3pm_imputed: float, Pressure9am_imputed: float, Pressure3pm_imputed: float, Cloud9am_imputed: float, Cloud3pm_imputed: float, Temp9am_imputed: float, Temp3pm_imputed: float, Rain_Today_imputed: double, Rain_Tomorrow_imputed: double]"
      ]
     },
     "execution_count": 195,
     "metadata": {},
     "output_type": "execute_result"
    }
   ],
   "source": [
    "\n",
    "imputer = Imputer(\n",
    "    inputCols=df2.columns, \n",
    "    outputCols=[\"{}_imputed\".format(c) for c in df2.columns]\n",
    ")\n",
    "imputer.fit(df2).transform(df2)"
   ]
  },
  {
   "cell_type": "code",
   "execution_count": 205,
   "metadata": {},
   "outputs": [],
   "source": [
    "num_cols = [col_type[0] for col_type in filter(lambda dtype: dtype[1] in {\"float\",\"double\"}, df_transformed.dtypes)]\n",
    "median_dict = dict()\n",
    "for c in num_cols:\n",
    "    median_dict[c] = df_transformed.stat.approxQuantile(c, [0.5], 0.001)[0]"
   ]
  },
  {
   "cell_type": "code",
   "execution_count": 206,
   "metadata": {},
   "outputs": [],
   "source": [
    "df_imputed = df_transformed.na.fill(median_dict)\n"
   ]
  },
  {
   "cell_type": "code",
   "execution_count": 207,
   "metadata": {},
   "outputs": [
    {
     "data": {
      "text/plain": [
       "{'MinTemp': 0,\n",
       " 'MaxTemp': 0,\n",
       " 'Rainfall': 0,\n",
       " 'WindGustSpeed': 0,\n",
       " 'WindSpeed9am': 0,\n",
       " 'WindSpeed3pm': 0,\n",
       " 'Humidity9am': 0,\n",
       " 'Humidity3pm': 0,\n",
       " 'Pressure9am': 0,\n",
       " 'Pressure3pm': 0,\n",
       " 'Cloud9am': 0,\n",
       " 'Cloud3pm': 0,\n",
       " 'Temp9am': 0,\n",
       " 'Temp3pm': 0,\n",
       " 'WindGustDirIndex': 0,\n",
       " 'WindDir9amIndex': 0,\n",
       " 'WindDir3pmIndex': 0,\n",
       " 'Rain_Today': 0,\n",
       " 'Rain_Tomorrow': 0,\n",
       " 'WindGustDir_vec': 0,\n",
       " 'WindDir9am_vec': 0,\n",
       " 'WindDir3pm_vec': 0}"
      ]
     },
     "execution_count": 207,
     "metadata": {},
     "output_type": "execute_result"
    }
   ],
   "source": [
    "Dict_Null = {col:df_imputed.filter(df_imputed[col].isNull()).count() for col in df_imputed.columns}\n",
    "Dict_Null"
   ]
  },
  {
   "cell_type": "code",
   "execution_count": 208,
   "metadata": {},
   "outputs": [],
   "source": [
    "df_imputed = df_imputed.drop(*(\"WindGustDirIndex\",\"WindDir9amIndex\",\"WindDir3pmIndex\"))"
   ]
  },
  {
   "cell_type": "code",
   "execution_count": 209,
   "metadata": {},
   "outputs": [
    {
     "name": "stdout",
     "output_type": "stream",
     "text": [
      "root\n",
      " |-- MinTemp: float (nullable = false)\n",
      " |-- MaxTemp: float (nullable = false)\n",
      " |-- Rainfall: float (nullable = false)\n",
      " |-- WindGustSpeed: float (nullable = false)\n",
      " |-- WindSpeed9am: float (nullable = false)\n",
      " |-- WindSpeed3pm: float (nullable = false)\n",
      " |-- Humidity9am: float (nullable = false)\n",
      " |-- Humidity3pm: float (nullable = false)\n",
      " |-- Pressure9am: float (nullable = false)\n",
      " |-- Pressure3pm: float (nullable = false)\n",
      " |-- Cloud9am: float (nullable = false)\n",
      " |-- Cloud3pm: float (nullable = false)\n",
      " |-- Temp9am: float (nullable = false)\n",
      " |-- Temp3pm: float (nullable = false)\n",
      " |-- Rain_Today: double (nullable = false)\n",
      " |-- Rain_Tomorrow: double (nullable = false)\n",
      " |-- WindGustDir_vec: vector (nullable = true)\n",
      " |-- WindDir9am_vec: vector (nullable = true)\n",
      " |-- WindDir3pm_vec: vector (nullable = true)\n",
      "\n"
     ]
    }
   ],
   "source": [
    "df_imputed.printSchema()"
   ]
  },
  {
   "cell_type": "code",
   "execution_count": 239,
   "metadata": {},
   "outputs": [],
   "source": [
    "cols3 = df_imputed.columns\n",
    "# Rearrange the list any way you want\n",
    "cols3.remove(\"Rain_Tomorrow\")"
   ]
  },
  {
   "cell_type": "code",
   "execution_count": 245,
   "metadata": {},
   "outputs": [],
   "source": [
    "from pyspark.ml.feature import VectorAssembler\n",
    "assembler = VectorAssembler(inputCols=cols3,outputCol=\"features\")"
   ]
  },
  {
   "cell_type": "code",
   "execution_count": 262,
   "metadata": {},
   "outputs": [],
   "source": [
    "new_df = assembler.transform(df_imputed)"
   ]
  },
  {
   "cell_type": "code",
   "execution_count": 258,
   "metadata": {},
   "outputs": [
    {
     "name": "stderr",
     "output_type": "stream",
     "text": [
      "Exception ignored in: <function JavaWrapper.__del__ at 0x7f8cb0a06040>          \n",
      "Traceback (most recent call last):\n",
      "  File \"/Users/gouthamkakani/opt/anaconda3/lib/python3.9/site-packages/pyspark/ml/wrapper.py\", line 39, in __del__\n",
      "    if SparkContext._active_spark_context and self._java_obj is not None:\n",
      "AttributeError: 'VectorAssembler' object has no attribute '_java_obj'\n"
     ]
    },
    {
     "data": {
      "text/html": [
       "<div>\n",
       "<style scoped>\n",
       "    .dataframe tbody tr th:only-of-type {\n",
       "        vertical-align: middle;\n",
       "    }\n",
       "\n",
       "    .dataframe tbody tr th {\n",
       "        vertical-align: top;\n",
       "    }\n",
       "\n",
       "    .dataframe thead th {\n",
       "        text-align: right;\n",
       "    }\n",
       "</style>\n",
       "<table border=\"1\" class=\"dataframe\">\n",
       "  <thead>\n",
       "    <tr style=\"text-align: right;\">\n",
       "      <th></th>\n",
       "      <th>MinTemp</th>\n",
       "      <th>MaxTemp</th>\n",
       "      <th>Rainfall</th>\n",
       "      <th>WindGustSpeed</th>\n",
       "      <th>WindSpeed9am</th>\n",
       "      <th>WindSpeed3pm</th>\n",
       "      <th>Humidity9am</th>\n",
       "      <th>Humidity3pm</th>\n",
       "      <th>Pressure9am</th>\n",
       "      <th>Pressure3pm</th>\n",
       "      <th>Cloud9am</th>\n",
       "      <th>Cloud3pm</th>\n",
       "      <th>Temp9am</th>\n",
       "      <th>Temp3pm</th>\n",
       "      <th>Rain_Today</th>\n",
       "      <th>Rain_Tomorrow</th>\n",
       "      <th>WindGustDir_vec</th>\n",
       "      <th>WindDir9am_vec</th>\n",
       "      <th>WindDir3pm_vec</th>\n",
       "      <th>features</th>\n",
       "    </tr>\n",
       "  </thead>\n",
       "  <tbody>\n",
       "    <tr>\n",
       "      <th>0</th>\n",
       "      <td>13.4</td>\n",
       "      <td>22.900000</td>\n",
       "      <td>0.6</td>\n",
       "      <td>44.0</td>\n",
       "      <td>20.0</td>\n",
       "      <td>24.0</td>\n",
       "      <td>71.0</td>\n",
       "      <td>22.0</td>\n",
       "      <td>1007.700012</td>\n",
       "      <td>1007.099976</td>\n",
       "      <td>8.0</td>\n",
       "      <td>0.0</td>\n",
       "      <td>16.900000</td>\n",
       "      <td>21.799999</td>\n",
       "      <td>0.0</td>\n",
       "      <td>0.0</td>\n",
       "      <td>(1.0, 0.0, 0.0, 0.0, 0.0, 0.0, 0.0, 0.0, 0.0, ...</td>\n",
       "      <td>(0.0, 0.0, 0.0, 0.0, 0.0, 0.0, 0.0, 1.0, 0.0, ...</td>\n",
       "      <td>(0.0, 0.0, 0.0, 0.0, 0.0, 0.0, 0.0, 1.0, 0.0, ...</td>\n",
       "      <td>(13.399999618530273, 22.899999618530273, 0.600...</td>\n",
       "    </tr>\n",
       "    <tr>\n",
       "      <th>1</th>\n",
       "      <td>7.4</td>\n",
       "      <td>25.100000</td>\n",
       "      <td>0.0</td>\n",
       "      <td>44.0</td>\n",
       "      <td>4.0</td>\n",
       "      <td>22.0</td>\n",
       "      <td>44.0</td>\n",
       "      <td>25.0</td>\n",
       "      <td>1010.599976</td>\n",
       "      <td>1007.799988</td>\n",
       "      <td>0.0</td>\n",
       "      <td>0.0</td>\n",
       "      <td>17.200001</td>\n",
       "      <td>24.299999</td>\n",
       "      <td>0.0</td>\n",
       "      <td>0.0</td>\n",
       "      <td>(0.0, 0.0, 0.0, 0.0, 0.0, 0.0, 0.0, 0.0, 0.0, ...</td>\n",
       "      <td>(0.0, 0.0, 0.0, 0.0, 0.0, 0.0, 0.0, 0.0, 0.0, ...</td>\n",
       "      <td>(0.0, 0.0, 0.0, 1.0, 0.0, 0.0, 0.0, 0.0, 0.0, ...</td>\n",
       "      <td>(7.400000095367432, 25.100000381469727, 0.0, 4...</td>\n",
       "    </tr>\n",
       "    <tr>\n",
       "      <th>2</th>\n",
       "      <td>12.9</td>\n",
       "      <td>25.700001</td>\n",
       "      <td>0.0</td>\n",
       "      <td>46.0</td>\n",
       "      <td>19.0</td>\n",
       "      <td>26.0</td>\n",
       "      <td>38.0</td>\n",
       "      <td>30.0</td>\n",
       "      <td>1007.599976</td>\n",
       "      <td>1008.700012</td>\n",
       "      <td>0.0</td>\n",
       "      <td>2.0</td>\n",
       "      <td>21.000000</td>\n",
       "      <td>23.200001</td>\n",
       "      <td>0.0</td>\n",
       "      <td>0.0</td>\n",
       "      <td>(0.0, 0.0, 0.0, 0.0, 0.0, 0.0, 0.0, 1.0, 0.0, ...</td>\n",
       "      <td>(0.0, 0.0, 0.0, 0.0, 0.0, 0.0, 0.0, 1.0, 0.0, ...</td>\n",
       "      <td>(0.0, 0.0, 0.0, 1.0, 0.0, 0.0, 0.0, 0.0, 0.0, ...</td>\n",
       "      <td>(12.899999618530273, 25.700000762939453, 0.0, ...</td>\n",
       "    </tr>\n",
       "    <tr>\n",
       "      <th>3</th>\n",
       "      <td>9.2</td>\n",
       "      <td>28.000000</td>\n",
       "      <td>0.0</td>\n",
       "      <td>24.0</td>\n",
       "      <td>11.0</td>\n",
       "      <td>9.0</td>\n",
       "      <td>45.0</td>\n",
       "      <td>16.0</td>\n",
       "      <td>1017.599976</td>\n",
       "      <td>1012.799988</td>\n",
       "      <td>0.0</td>\n",
       "      <td>0.0</td>\n",
       "      <td>18.100000</td>\n",
       "      <td>26.500000</td>\n",
       "      <td>0.0</td>\n",
       "      <td>0.0</td>\n",
       "      <td>(0.0, 0.0, 0.0, 0.0, 0.0, 0.0, 0.0, 0.0, 0.0, ...</td>\n",
       "      <td>(0.0, 0.0, 1.0, 0.0, 0.0, 0.0, 0.0, 0.0, 0.0, ...</td>\n",
       "      <td>(0.0, 0.0, 0.0, 0.0, 0.0, 0.0, 0.0, 0.0, 0.0, ...</td>\n",
       "      <td>(9.199999809265137, 28.0, 0.0, 24.0, 11.0, 9.0...</td>\n",
       "    </tr>\n",
       "    <tr>\n",
       "      <th>4</th>\n",
       "      <td>17.5</td>\n",
       "      <td>32.299999</td>\n",
       "      <td>1.0</td>\n",
       "      <td>41.0</td>\n",
       "      <td>7.0</td>\n",
       "      <td>20.0</td>\n",
       "      <td>82.0</td>\n",
       "      <td>33.0</td>\n",
       "      <td>1010.799988</td>\n",
       "      <td>1006.000000</td>\n",
       "      <td>7.0</td>\n",
       "      <td>8.0</td>\n",
       "      <td>17.799999</td>\n",
       "      <td>29.700001</td>\n",
       "      <td>0.0</td>\n",
       "      <td>0.0</td>\n",
       "      <td>(1.0, 0.0, 0.0, 0.0, 0.0, 0.0, 0.0, 0.0, 0.0, ...</td>\n",
       "      <td>(0.0, 0.0, 0.0, 0.0, 0.0, 0.0, 0.0, 0.0, 0.0, ...</td>\n",
       "      <td>(0.0, 0.0, 0.0, 0.0, 0.0, 0.0, 0.0, 0.0, 1.0, ...</td>\n",
       "      <td>(17.5, 32.29999923706055, 1.0, 41.0, 7.0, 20.0...</td>\n",
       "    </tr>\n",
       "    <tr>\n",
       "      <th>...</th>\n",
       "      <td>...</td>\n",
       "      <td>...</td>\n",
       "      <td>...</td>\n",
       "      <td>...</td>\n",
       "      <td>...</td>\n",
       "      <td>...</td>\n",
       "      <td>...</td>\n",
       "      <td>...</td>\n",
       "      <td>...</td>\n",
       "      <td>...</td>\n",
       "      <td>...</td>\n",
       "      <td>...</td>\n",
       "      <td>...</td>\n",
       "      <td>...</td>\n",
       "      <td>...</td>\n",
       "      <td>...</td>\n",
       "      <td>...</td>\n",
       "      <td>...</td>\n",
       "      <td>...</td>\n",
       "      <td>...</td>\n",
       "    </tr>\n",
       "    <tr>\n",
       "      <th>140782</th>\n",
       "      <td>3.5</td>\n",
       "      <td>21.799999</td>\n",
       "      <td>0.0</td>\n",
       "      <td>31.0</td>\n",
       "      <td>15.0</td>\n",
       "      <td>13.0</td>\n",
       "      <td>59.0</td>\n",
       "      <td>27.0</td>\n",
       "      <td>1024.699951</td>\n",
       "      <td>1021.200012</td>\n",
       "      <td>0.0</td>\n",
       "      <td>0.0</td>\n",
       "      <td>9.400000</td>\n",
       "      <td>20.900000</td>\n",
       "      <td>0.0</td>\n",
       "      <td>0.0</td>\n",
       "      <td>(0.0, 0.0, 0.0, 1.0, 0.0, 0.0, 0.0, 0.0, 0.0, ...</td>\n",
       "      <td>(0.0, 0.0, 0.0, 0.0, 0.0, 0.0, 0.0, 0.0, 0.0, ...</td>\n",
       "      <td>(0.0, 0.0, 0.0, 0.0, 0.0, 0.0, 0.0, 0.0, 0.0, ...</td>\n",
       "      <td>(3.5, 21.799999237060547, 0.0, 31.0, 15.0, 13....</td>\n",
       "    </tr>\n",
       "    <tr>\n",
       "      <th>140783</th>\n",
       "      <td>2.8</td>\n",
       "      <td>23.400000</td>\n",
       "      <td>0.0</td>\n",
       "      <td>31.0</td>\n",
       "      <td>13.0</td>\n",
       "      <td>11.0</td>\n",
       "      <td>51.0</td>\n",
       "      <td>24.0</td>\n",
       "      <td>1024.599976</td>\n",
       "      <td>1020.299988</td>\n",
       "      <td>0.0</td>\n",
       "      <td>0.0</td>\n",
       "      <td>10.100000</td>\n",
       "      <td>22.400000</td>\n",
       "      <td>0.0</td>\n",
       "      <td>0.0</td>\n",
       "      <td>(0.0, 0.0, 0.0, 1.0, 0.0, 0.0, 0.0, 0.0, 0.0, ...</td>\n",
       "      <td>(0.0, 0.0, 1.0, 0.0, 0.0, 0.0, 0.0, 0.0, 0.0, ...</td>\n",
       "      <td>(0.0, 0.0, 0.0, 0.0, 0.0, 0.0, 0.0, 0.0, 0.0, ...</td>\n",
       "      <td>(2.799999952316284, 23.399999618530273, 0.0, 3...</td>\n",
       "    </tr>\n",
       "    <tr>\n",
       "      <th>140784</th>\n",
       "      <td>3.6</td>\n",
       "      <td>25.299999</td>\n",
       "      <td>0.0</td>\n",
       "      <td>22.0</td>\n",
       "      <td>13.0</td>\n",
       "      <td>9.0</td>\n",
       "      <td>56.0</td>\n",
       "      <td>21.0</td>\n",
       "      <td>1023.500000</td>\n",
       "      <td>1019.099976</td>\n",
       "      <td>0.0</td>\n",
       "      <td>0.0</td>\n",
       "      <td>10.900000</td>\n",
       "      <td>24.500000</td>\n",
       "      <td>0.0</td>\n",
       "      <td>0.0</td>\n",
       "      <td>(0.0, 0.0, 0.0, 0.0, 0.0, 0.0, 0.0, 0.0, 0.0, ...</td>\n",
       "      <td>(0.0, 0.0, 1.0, 0.0, 0.0, 0.0, 0.0, 0.0, 0.0, ...</td>\n",
       "      <td>(0.0, 0.0, 0.0, 0.0, 0.0, 0.0, 1.0, 0.0, 0.0, ...</td>\n",
       "      <td>(3.5999999046325684, 25.299999237060547, 0.0, ...</td>\n",
       "    </tr>\n",
       "    <tr>\n",
       "      <th>140785</th>\n",
       "      <td>5.4</td>\n",
       "      <td>26.900000</td>\n",
       "      <td>0.0</td>\n",
       "      <td>37.0</td>\n",
       "      <td>9.0</td>\n",
       "      <td>9.0</td>\n",
       "      <td>53.0</td>\n",
       "      <td>24.0</td>\n",
       "      <td>1021.000000</td>\n",
       "      <td>1016.799988</td>\n",
       "      <td>0.0</td>\n",
       "      <td>0.0</td>\n",
       "      <td>12.500000</td>\n",
       "      <td>26.100000</td>\n",
       "      <td>0.0</td>\n",
       "      <td>0.0</td>\n",
       "      <td>(0.0, 0.0, 0.0, 0.0, 1.0, 0.0, 0.0, 0.0, 0.0, ...</td>\n",
       "      <td>(0.0, 0.0, 1.0, 0.0, 0.0, 0.0, 0.0, 0.0, 0.0, ...</td>\n",
       "      <td>(0.0, 0.0, 0.0, 0.0, 0.0, 0.0, 0.0, 1.0, 0.0, ...</td>\n",
       "      <td>(5.400000095367432, 26.899999618530273, 0.0, 3...</td>\n",
       "    </tr>\n",
       "    <tr>\n",
       "      <th>140786</th>\n",
       "      <td>7.8</td>\n",
       "      <td>27.000000</td>\n",
       "      <td>0.0</td>\n",
       "      <td>28.0</td>\n",
       "      <td>13.0</td>\n",
       "      <td>7.0</td>\n",
       "      <td>51.0</td>\n",
       "      <td>24.0</td>\n",
       "      <td>1019.400024</td>\n",
       "      <td>1016.500000</td>\n",
       "      <td>3.0</td>\n",
       "      <td>2.0</td>\n",
       "      <td>15.100000</td>\n",
       "      <td>26.000000</td>\n",
       "      <td>0.0</td>\n",
       "      <td>0.0</td>\n",
       "      <td>(0.0, 1.0, 0.0, 0.0, 0.0, 0.0, 0.0, 0.0, 0.0, ...</td>\n",
       "      <td>(0.0, 0.0, 0.0, 0.0, 1.0, 0.0, 0.0, 0.0, 0.0, ...</td>\n",
       "      <td>(0.0, 0.0, 0.0, 0.0, 0.0, 0.0, 1.0, 0.0, 0.0, ...</td>\n",
       "      <td>(7.800000190734863, 27.0, 0.0, 28.0, 13.0, 7.0...</td>\n",
       "    </tr>\n",
       "  </tbody>\n",
       "</table>\n",
       "<p>140787 rows × 20 columns</p>\n",
       "</div>"
      ],
      "text/plain": [
       "        MinTemp    MaxTemp  Rainfall  WindGustSpeed  WindSpeed9am  \\\n",
       "0          13.4  22.900000       0.6           44.0          20.0   \n",
       "1           7.4  25.100000       0.0           44.0           4.0   \n",
       "2          12.9  25.700001       0.0           46.0          19.0   \n",
       "3           9.2  28.000000       0.0           24.0          11.0   \n",
       "4          17.5  32.299999       1.0           41.0           7.0   \n",
       "...         ...        ...       ...            ...           ...   \n",
       "140782      3.5  21.799999       0.0           31.0          15.0   \n",
       "140783      2.8  23.400000       0.0           31.0          13.0   \n",
       "140784      3.6  25.299999       0.0           22.0          13.0   \n",
       "140785      5.4  26.900000       0.0           37.0           9.0   \n",
       "140786      7.8  27.000000       0.0           28.0          13.0   \n",
       "\n",
       "        WindSpeed3pm  Humidity9am  Humidity3pm  Pressure9am  Pressure3pm  \\\n",
       "0               24.0         71.0         22.0  1007.700012  1007.099976   \n",
       "1               22.0         44.0         25.0  1010.599976  1007.799988   \n",
       "2               26.0         38.0         30.0  1007.599976  1008.700012   \n",
       "3                9.0         45.0         16.0  1017.599976  1012.799988   \n",
       "4               20.0         82.0         33.0  1010.799988  1006.000000   \n",
       "...              ...          ...          ...          ...          ...   \n",
       "140782          13.0         59.0         27.0  1024.699951  1021.200012   \n",
       "140783          11.0         51.0         24.0  1024.599976  1020.299988   \n",
       "140784           9.0         56.0         21.0  1023.500000  1019.099976   \n",
       "140785           9.0         53.0         24.0  1021.000000  1016.799988   \n",
       "140786           7.0         51.0         24.0  1019.400024  1016.500000   \n",
       "\n",
       "        Cloud9am  Cloud3pm    Temp9am    Temp3pm  Rain_Today  Rain_Tomorrow  \\\n",
       "0            8.0       0.0  16.900000  21.799999         0.0            0.0   \n",
       "1            0.0       0.0  17.200001  24.299999         0.0            0.0   \n",
       "2            0.0       2.0  21.000000  23.200001         0.0            0.0   \n",
       "3            0.0       0.0  18.100000  26.500000         0.0            0.0   \n",
       "4            7.0       8.0  17.799999  29.700001         0.0            0.0   \n",
       "...          ...       ...        ...        ...         ...            ...   \n",
       "140782       0.0       0.0   9.400000  20.900000         0.0            0.0   \n",
       "140783       0.0       0.0  10.100000  22.400000         0.0            0.0   \n",
       "140784       0.0       0.0  10.900000  24.500000         0.0            0.0   \n",
       "140785       0.0       0.0  12.500000  26.100000         0.0            0.0   \n",
       "140786       3.0       2.0  15.100000  26.000000         0.0            0.0   \n",
       "\n",
       "                                          WindGustDir_vec  \\\n",
       "0       (1.0, 0.0, 0.0, 0.0, 0.0, 0.0, 0.0, 0.0, 0.0, ...   \n",
       "1       (0.0, 0.0, 0.0, 0.0, 0.0, 0.0, 0.0, 0.0, 0.0, ...   \n",
       "2       (0.0, 0.0, 0.0, 0.0, 0.0, 0.0, 0.0, 1.0, 0.0, ...   \n",
       "3       (0.0, 0.0, 0.0, 0.0, 0.0, 0.0, 0.0, 0.0, 0.0, ...   \n",
       "4       (1.0, 0.0, 0.0, 0.0, 0.0, 0.0, 0.0, 0.0, 0.0, ...   \n",
       "...                                                   ...   \n",
       "140782  (0.0, 0.0, 0.0, 1.0, 0.0, 0.0, 0.0, 0.0, 0.0, ...   \n",
       "140783  (0.0, 0.0, 0.0, 1.0, 0.0, 0.0, 0.0, 0.0, 0.0, ...   \n",
       "140784  (0.0, 0.0, 0.0, 0.0, 0.0, 0.0, 0.0, 0.0, 0.0, ...   \n",
       "140785  (0.0, 0.0, 0.0, 0.0, 1.0, 0.0, 0.0, 0.0, 0.0, ...   \n",
       "140786  (0.0, 1.0, 0.0, 0.0, 0.0, 0.0, 0.0, 0.0, 0.0, ...   \n",
       "\n",
       "                                           WindDir9am_vec  \\\n",
       "0       (0.0, 0.0, 0.0, 0.0, 0.0, 0.0, 0.0, 1.0, 0.0, ...   \n",
       "1       (0.0, 0.0, 0.0, 0.0, 0.0, 0.0, 0.0, 0.0, 0.0, ...   \n",
       "2       (0.0, 0.0, 0.0, 0.0, 0.0, 0.0, 0.0, 1.0, 0.0, ...   \n",
       "3       (0.0, 0.0, 1.0, 0.0, 0.0, 0.0, 0.0, 0.0, 0.0, ...   \n",
       "4       (0.0, 0.0, 0.0, 0.0, 0.0, 0.0, 0.0, 0.0, 0.0, ...   \n",
       "...                                                   ...   \n",
       "140782  (0.0, 0.0, 0.0, 0.0, 0.0, 0.0, 0.0, 0.0, 0.0, ...   \n",
       "140783  (0.0, 0.0, 1.0, 0.0, 0.0, 0.0, 0.0, 0.0, 0.0, ...   \n",
       "140784  (0.0, 0.0, 1.0, 0.0, 0.0, 0.0, 0.0, 0.0, 0.0, ...   \n",
       "140785  (0.0, 0.0, 1.0, 0.0, 0.0, 0.0, 0.0, 0.0, 0.0, ...   \n",
       "140786  (0.0, 0.0, 0.0, 0.0, 1.0, 0.0, 0.0, 0.0, 0.0, ...   \n",
       "\n",
       "                                           WindDir3pm_vec  \\\n",
       "0       (0.0, 0.0, 0.0, 0.0, 0.0, 0.0, 0.0, 1.0, 0.0, ...   \n",
       "1       (0.0, 0.0, 0.0, 1.0, 0.0, 0.0, 0.0, 0.0, 0.0, ...   \n",
       "2       (0.0, 0.0, 0.0, 1.0, 0.0, 0.0, 0.0, 0.0, 0.0, ...   \n",
       "3       (0.0, 0.0, 0.0, 0.0, 0.0, 0.0, 0.0, 0.0, 0.0, ...   \n",
       "4       (0.0, 0.0, 0.0, 0.0, 0.0, 0.0, 0.0, 0.0, 1.0, ...   \n",
       "...                                                   ...   \n",
       "140782  (0.0, 0.0, 0.0, 0.0, 0.0, 0.0, 0.0, 0.0, 0.0, ...   \n",
       "140783  (0.0, 0.0, 0.0, 0.0, 0.0, 0.0, 0.0, 0.0, 0.0, ...   \n",
       "140784  (0.0, 0.0, 0.0, 0.0, 0.0, 0.0, 1.0, 0.0, 0.0, ...   \n",
       "140785  (0.0, 0.0, 0.0, 0.0, 0.0, 0.0, 0.0, 1.0, 0.0, ...   \n",
       "140786  (0.0, 0.0, 0.0, 0.0, 0.0, 0.0, 1.0, 0.0, 0.0, ...   \n",
       "\n",
       "                                                 features  \n",
       "0       (13.399999618530273, 22.899999618530273, 0.600...  \n",
       "1       (7.400000095367432, 25.100000381469727, 0.0, 4...  \n",
       "2       (12.899999618530273, 25.700000762939453, 0.0, ...  \n",
       "3       (9.199999809265137, 28.0, 0.0, 24.0, 11.0, 9.0...  \n",
       "4       (17.5, 32.29999923706055, 1.0, 41.0, 7.0, 20.0...  \n",
       "...                                                   ...  \n",
       "140782  (3.5, 21.799999237060547, 0.0, 31.0, 15.0, 13....  \n",
       "140783  (2.799999952316284, 23.399999618530273, 0.0, 3...  \n",
       "140784  (3.5999999046325684, 25.299999237060547, 0.0, ...  \n",
       "140785  (5.400000095367432, 26.899999618530273, 0.0, 3...  \n",
       "140786  (7.800000190734863, 27.0, 0.0, 28.0, 13.0, 7.0...  \n",
       "\n",
       "[140787 rows x 20 columns]"
      ]
     },
     "execution_count": 258,
     "metadata": {},
     "output_type": "execute_result"
    }
   ],
   "source": [
    "output.toPandas()"
   ]
  },
  {
   "cell_type": "code",
   "execution_count": 263,
   "metadata": {},
   "outputs": [
    {
     "name": "stderr",
     "output_type": "stream",
     "text": [
      "                                                                                \r"
     ]
    },
    {
     "data": {
      "text/html": [
       "<div>\n",
       "<style scoped>\n",
       "    .dataframe tbody tr th:only-of-type {\n",
       "        vertical-align: middle;\n",
       "    }\n",
       "\n",
       "    .dataframe tbody tr th {\n",
       "        vertical-align: top;\n",
       "    }\n",
       "\n",
       "    .dataframe thead th {\n",
       "        text-align: right;\n",
       "    }\n",
       "</style>\n",
       "<table border=\"1\" class=\"dataframe\">\n",
       "  <thead>\n",
       "    <tr style=\"text-align: right;\">\n",
       "      <th></th>\n",
       "      <th>features</th>\n",
       "      <th>Rain_Tomorrow</th>\n",
       "    </tr>\n",
       "  </thead>\n",
       "  <tbody>\n",
       "    <tr>\n",
       "      <th>0</th>\n",
       "      <td>(13.399999618530273, 22.899999618530273, 0.600...</td>\n",
       "      <td>0.0</td>\n",
       "    </tr>\n",
       "    <tr>\n",
       "      <th>1</th>\n",
       "      <td>(7.400000095367432, 25.100000381469727, 0.0, 4...</td>\n",
       "      <td>0.0</td>\n",
       "    </tr>\n",
       "    <tr>\n",
       "      <th>2</th>\n",
       "      <td>(12.899999618530273, 25.700000762939453, 0.0, ...</td>\n",
       "      <td>0.0</td>\n",
       "    </tr>\n",
       "    <tr>\n",
       "      <th>3</th>\n",
       "      <td>(9.199999809265137, 28.0, 0.0, 24.0, 11.0, 9.0...</td>\n",
       "      <td>0.0</td>\n",
       "    </tr>\n",
       "    <tr>\n",
       "      <th>4</th>\n",
       "      <td>(17.5, 32.29999923706055, 1.0, 41.0, 7.0, 20.0...</td>\n",
       "      <td>0.0</td>\n",
       "    </tr>\n",
       "    <tr>\n",
       "      <th>...</th>\n",
       "      <td>...</td>\n",
       "      <td>...</td>\n",
       "    </tr>\n",
       "    <tr>\n",
       "      <th>140782</th>\n",
       "      <td>(3.5, 21.799999237060547, 0.0, 31.0, 15.0, 13....</td>\n",
       "      <td>0.0</td>\n",
       "    </tr>\n",
       "    <tr>\n",
       "      <th>140783</th>\n",
       "      <td>(2.799999952316284, 23.399999618530273, 0.0, 3...</td>\n",
       "      <td>0.0</td>\n",
       "    </tr>\n",
       "    <tr>\n",
       "      <th>140784</th>\n",
       "      <td>(3.5999999046325684, 25.299999237060547, 0.0, ...</td>\n",
       "      <td>0.0</td>\n",
       "    </tr>\n",
       "    <tr>\n",
       "      <th>140785</th>\n",
       "      <td>(5.400000095367432, 26.899999618530273, 0.0, 3...</td>\n",
       "      <td>0.0</td>\n",
       "    </tr>\n",
       "    <tr>\n",
       "      <th>140786</th>\n",
       "      <td>(7.800000190734863, 27.0, 0.0, 28.0, 13.0, 7.0...</td>\n",
       "      <td>0.0</td>\n",
       "    </tr>\n",
       "  </tbody>\n",
       "</table>\n",
       "<p>140787 rows × 2 columns</p>\n",
       "</div>"
      ],
      "text/plain": [
       "                                                 features  Rain_Tomorrow\n",
       "0       (13.399999618530273, 22.899999618530273, 0.600...            0.0\n",
       "1       (7.400000095367432, 25.100000381469727, 0.0, 4...            0.0\n",
       "2       (12.899999618530273, 25.700000762939453, 0.0, ...            0.0\n",
       "3       (9.199999809265137, 28.0, 0.0, 24.0, 11.0, 9.0...            0.0\n",
       "4       (17.5, 32.29999923706055, 1.0, 41.0, 7.0, 20.0...            0.0\n",
       "...                                                   ...            ...\n",
       "140782  (3.5, 21.799999237060547, 0.0, 31.0, 15.0, 13....            0.0\n",
       "140783  (2.799999952316284, 23.399999618530273, 0.0, 3...            0.0\n",
       "140784  (3.5999999046325684, 25.299999237060547, 0.0, ...            0.0\n",
       "140785  (5.400000095367432, 26.899999618530273, 0.0, 3...            0.0\n",
       "140786  (7.800000190734863, 27.0, 0.0, 28.0, 13.0, 7.0...            0.0\n",
       "\n",
       "[140787 rows x 2 columns]"
      ]
     },
     "execution_count": 263,
     "metadata": {},
     "output_type": "execute_result"
    }
   ],
   "source": [
    "new_df.select(\"features\",\"Rain_Tomorrow\").toPandas()"
   ]
  },
  {
   "cell_type": "code",
   "execution_count": 269,
   "metadata": {},
   "outputs": [],
   "source": [
    "final_df = new_df.select(\"features\",\"Rain_Tomorrow\")"
   ]
  },
  {
   "cell_type": "code",
   "execution_count": 271,
   "metadata": {
    "scrolled": true
   },
   "outputs": [],
   "source": [
    "train, test = final_df.randomSplit([0.7, 0.3],seed=12345)"
   ]
  },
  {
   "cell_type": "code",
   "execution_count": 281,
   "metadata": {},
   "outputs": [],
   "source": [
    "from pyspark.ml.classification import DecisionTreeClassifier \n",
    "from pyspark.ml.evaluation import MulticlassClassificationEvaluator"
   ]
  },
  {
   "cell_type": "code",
   "execution_count": 275,
   "metadata": {},
   "outputs": [
    {
     "name": "stderr",
     "output_type": "stream",
     "text": [
      "                                                                                \r"
     ]
    }
   ],
   "source": [
    "dtree = DecisionTreeClassifier(labelCol=\"Rain_Tomorrow\").fit(train)"
   ]
  },
  {
   "cell_type": "code",
   "execution_count": 276,
   "metadata": {},
   "outputs": [],
   "source": [
    "df_pred = dtree.transform(test)"
   ]
  },
  {
   "cell_type": "code",
   "execution_count": 284,
   "metadata": {},
   "outputs": [
    {
     "name": "stderr",
     "output_type": "stream",
     "text": [
      "                                                                                \r"
     ]
    }
   ],
   "source": [
    "accuracy = MulticlassClassificationEvaluator(labelCol=\"Rain_Tomorrow\",metricName='accuracy').evaluate(df_pred)"
   ]
  },
  {
   "cell_type": "code",
   "execution_count": 286,
   "metadata": {},
   "outputs": [
    {
     "name": "stdout",
     "output_type": "stream",
     "text": [
      "0.8399443448731252\n"
     ]
    }
   ],
   "source": [
    "print(accuracy)"
   ]
  },
  {
   "cell_type": "code",
   "execution_count": 293,
   "metadata": {},
   "outputs": [
    {
     "name": "stderr",
     "output_type": "stream",
     "text": [
      "                                                                                \r"
     ]
    },
    {
     "name": "stdout",
     "output_type": "stream",
     "text": [
      "CrossValidatorModel_8194ad08a5bd\n"
     ]
    },
    {
     "name": "stderr",
     "output_type": "stream",
     "text": [
      "                                                                                \r"
     ]
    },
    {
     "name": "stdout",
     "output_type": "stream",
     "text": [
      "Accuracy: 0.5676081757050775\n"
     ]
    },
    {
     "name": "stderr",
     "output_type": "stream",
     "text": [
      "[Stage 9155:>                                                       (0 + 1) / 1]\r"
     ]
    },
    {
     "name": "stdout",
     "output_type": "stream",
     "text": [
      "AUC: 0.7152006353725182\n"
     ]
    },
    {
     "name": "stderr",
     "output_type": "stream",
     "text": [
      "\r",
      "                                                                                \r"
     ]
    }
   ],
   "source": [
    "from pyspark.ml.classification import DecisionTreeClassifier\n",
    "from pyspark.ml.tuning import ParamGridBuilder, CrossValidator\n",
    "from pyspark.ml.evaluation import BinaryClassificationEvaluator\n",
    "from pyspark.mllib.evaluation import BinaryClassificationMetrics\n",
    "\n",
    "\n",
    "dtree = DecisionTreeClassifier(labelCol=\"Rain_Tomorrow\", featuresCol=\"features\", maxDepth=2,impurity =\"gini\" )\n",
    "\n",
    "\n",
    "dtparamGrid = (ParamGridBuilder().addGrid(dtree.impurity,[\"gini\",'entropy']).addGrid(dtree.maxDepth, [3,5,7]).addGrid(dtree.maxBins, [5,10,15,3]).build())\n",
    "\n",
    "\n",
    "dtree_evl = BinaryClassificationEvaluator(labelCol=\"Rain_Tomorrow\")\n",
    "\n",
    "\n",
    "dtcv = CrossValidator(estimator = dtree,\n",
    "                      estimatorParamMaps = dtparamGrid,\n",
    "                      evaluator = dtree_evl,\n",
    "                      numFolds = 4)\n",
    "\n",
    "\n",
    "dtcvModel = dtcv.fit(train)\n",
    "print(dtcvModel)\n",
    "\n",
    "\n",
    "dtreefinal_pred = dtcvModel.transform(test)\n",
    "\n",
    "print('Accuracy:', dtree_evl.evaluate(dtreefinal_pred))\n",
    "print('AUC:', BinaryClassificationMetrics(dtreefinal_pred['Rain_Tomorrow','prediction'].rdd).areaUnderROC)"
   ]
  }
 ],
 "metadata": {
  "kernelspec": {
   "display_name": "Python 3",
   "language": "python",
   "name": "python3"
  },
  "language_info": {
   "codemirror_mode": {
    "name": "ipython",
    "version": 3
   },
   "file_extension": ".py",
   "mimetype": "text/x-python",
   "name": "python",
   "nbconvert_exporter": "python",
   "pygments_lexer": "ipython3",
   "version": "3.8.3"
  }
 },
 "nbformat": 4,
 "nbformat_minor": 5
}
