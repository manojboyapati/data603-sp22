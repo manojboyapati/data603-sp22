{
  "nbformat": 4,
  "nbformat_minor": 0,
  "metadata": {
    "colab": {
      "name": " homework/hw04.ipynb.ipynb",
      "provenance": [],
      "toc_visible": true
    },
    "kernelspec": {
      "name": "python3",
      "display_name": "Python 3"
    },
    "language_info": {
      "name": "python"
    }
  },
  "cells": [
    {
      "cell_type": "code",
      "source": [
        "import pyspark\n",
        "from pyspark.sql import SparkSession"
      ],
      "metadata": {
        "id": "24MOM77sXnw6"
      },
      "execution_count": 100,
      "outputs": []
    },
    {
      "cell_type": "code",
      "source": [
        "spark = pyspark.sql.SparkSession.builder.getOrCreate()\n",
        "sc = spark.sparkContext"
      ],
      "metadata": {
        "id": "zgvWAdJaYFj4"
      },
      "execution_count": 101,
      "outputs": []
    },
    {
      "cell_type": "code",
      "source": [
        "spark = SparkSession.builder.getOrCreate()\n",
        "spark"
      ],
      "metadata": {
        "colab": {
          "base_uri": "https://localhost:8080/",
          "height": 219
        },
        "id": "v6cwic_tYJmY",
        "outputId": "3154b581-902d-4b04-cf74-8af4863df79e"
      },
      "execution_count": 102,
      "outputs": [
        {
          "output_type": "execute_result",
          "data": {
            "text/html": [
              "\n",
              "            <div>\n",
              "                <p><b>SparkSession - in-memory</b></p>\n",
              "                \n",
              "        <div>\n",
              "            <p><b>SparkContext</b></p>\n",
              "\n",
              "            <p><a href=\"http://b4b8f9baf08b:4040\">Spark UI</a></p>\n",
              "\n",
              "            <dl>\n",
              "              <dt>Version</dt>\n",
              "                <dd><code>v3.2.1</code></dd>\n",
              "              <dt>Master</dt>\n",
              "                <dd><code>local[*]</code></dd>\n",
              "              <dt>AppName</dt>\n",
              "                <dd><code>pyspark-shell</code></dd>\n",
              "            </dl>\n",
              "        </div>\n",
              "        \n",
              "            </div>\n",
              "        "
            ],
            "text/plain": [
              "<pyspark.sql.session.SparkSession at 0x7f2d922bc450>"
            ]
          },
          "metadata": {},
          "execution_count": 102
        }
      ]
    },
    {
      "cell_type": "code",
      "source": [
        "from pyspark.sql.types import  (StructType, \n",
        "                                StructField, \n",
        "                                DateType, \n",
        "                                BooleanType,\n",
        "                                DoubleType,\n",
        "                                IntegerType,\n",
        "                                StringType,\n",
        "                               TimestampType)\n",
        "import pyspark.sql.functions as S\n",
        "from datetime import datetime\n",
        "from pyspark.sql.functions import col,udf\n",
        "from pyspark.sql.functions import *"
      ],
      "metadata": {
        "id": "kjtd6oR-Ycco"
      },
      "execution_count": 103,
      "outputs": []
    },
    {
      "cell_type": "code",
      "source": [
        "schema = StructType([\n",
        "    StructField('X', DoubleType(), True),\n",
        "    StructField('Y', DoubleType(), True),\n",
        "    StructField('RowID', IntegerType(), True),\n",
        "    StructField('CrimeDateTime', StringType(), True), \n",
        "    StructField('CrimeCode', StringType(), True),\n",
        "    StructField('Location', StringType(), True),\n",
        "    StructField('Description', StringType(), True),\n",
        "    StructField('Inside_Outside', StringType(), True),\n",
        "    StructField('Weapon', StringType(), True),\n",
        "    StructField('Post', StringType(), True),\n",
        "    StructField('District', StringType(), True),\n",
        "    StructField('Neighborhood', StringType(), True),\n",
        "    StructField('Latitude', DoubleType(), True),\n",
        "    StructField('Longitude', DoubleType(), True),\n",
        "    StructField('GeoLocation', StringType(), True),\n",
        "    StructField('Premise', StringType(), True),\n",
        "    StructField('VRIName', StringType(), True),\n",
        "    StructField('Total_Incidents', IntegerType(), True),\n",
        "    StructField('Shape', StringType(), True)\n",
        "  ])"
      ],
      "metadata": {
        "id": "fgD6ECwcZQHZ"
      },
      "execution_count": 104,
      "outputs": []
    },
    {
      "cell_type": "code",
      "source": [
        "df = spark.read.option('header', True).schema(schema).csv(\"Part1_Crime_data.csv\")"
      ],
      "metadata": {
        "id": "mRVcuqJ0gAnu"
      },
      "execution_count": 105,
      "outputs": []
    },
    {
      "cell_type": "code",
      "source": [
        "print(df.count())"
      ],
      "metadata": {
        "colab": {
          "base_uri": "https://localhost:8080/"
        },
        "id": "81YteQ1phNR6",
        "outputId": "1375134f-eb22-40b3-f39d-1a920b3f97f7"
      },
      "execution_count": 106,
      "outputs": [
        {
          "output_type": "stream",
          "name": "stdout",
          "text": [
            "513756\n"
          ]
        }
      ]
    },
    {
      "cell_type": "code",
      "source": [
        "df.printSchema()"
      ],
      "metadata": {
        "colab": {
          "base_uri": "https://localhost:8080/"
        },
        "id": "yDWZMpXFm6SP",
        "outputId": "625c180e-4bdd-479c-f13d-57d5e011ae37"
      },
      "execution_count": 107,
      "outputs": [
        {
          "output_type": "stream",
          "name": "stdout",
          "text": [
            "root\n",
            " |-- X: double (nullable = true)\n",
            " |-- Y: double (nullable = true)\n",
            " |-- RowID: integer (nullable = true)\n",
            " |-- CrimeDateTime: string (nullable = true)\n",
            " |-- CrimeCode: string (nullable = true)\n",
            " |-- Location: string (nullable = true)\n",
            " |-- Description: string (nullable = true)\n",
            " |-- Inside_Outside: string (nullable = true)\n",
            " |-- Weapon: string (nullable = true)\n",
            " |-- Post: string (nullable = true)\n",
            " |-- District: string (nullable = true)\n",
            " |-- Neighborhood: string (nullable = true)\n",
            " |-- Latitude: double (nullable = true)\n",
            " |-- Longitude: double (nullable = true)\n",
            " |-- GeoLocation: string (nullable = true)\n",
            " |-- Premise: string (nullable = true)\n",
            " |-- VRIName: string (nullable = true)\n",
            " |-- Total_Incidents: integer (nullable = true)\n",
            " |-- Shape: string (nullable = true)\n",
            "\n"
          ]
        }
      ]
    },
    {
      "cell_type": "code",
      "source": [
        "list(schema)"
      ],
      "metadata": {
        "colab": {
          "base_uri": "https://localhost:8080/"
        },
        "id": "irPGakXNnB5w",
        "outputId": "08bc3277-6255-473f-bce1-5d852e05c5bb"
      },
      "execution_count": 108,
      "outputs": [
        {
          "output_type": "execute_result",
          "data": {
            "text/plain": [
              "[StructField(X,DoubleType,true),\n",
              " StructField(Y,DoubleType,true),\n",
              " StructField(RowID,IntegerType,true),\n",
              " StructField(CrimeDateTime,StringType,true),\n",
              " StructField(CrimeCode,StringType,true),\n",
              " StructField(Location,StringType,true),\n",
              " StructField(Description,StringType,true),\n",
              " StructField(Inside_Outside,StringType,true),\n",
              " StructField(Weapon,StringType,true),\n",
              " StructField(Post,StringType,true),\n",
              " StructField(District,StringType,true),\n",
              " StructField(Neighborhood,StringType,true),\n",
              " StructField(Latitude,DoubleType,true),\n",
              " StructField(Longitude,DoubleType,true),\n",
              " StructField(GeoLocation,StringType,true),\n",
              " StructField(Premise,StringType,true),\n",
              " StructField(VRIName,StringType,true),\n",
              " StructField(Total_Incidents,IntegerType,true),\n",
              " StructField(Shape,StringType,true)]"
            ]
          },
          "metadata": {},
          "execution_count": 108
        }
      ]
    },
    {
      "cell_type": "code",
      "source": [
        "df.show(5)"
      ],
      "metadata": {
        "colab": {
          "base_uri": "https://localhost:8080/"
        },
        "id": "uHxUJLfGnI41",
        "outputId": "2dccdca6-5a30-4a79-f366-8fca2373b58a"
      },
      "execution_count": 109,
      "outputs": [
        {
          "output_type": "stream",
          "name": "stdout",
          "text": [
            "+----------------+----------------+-----+--------------------+---------+------------------+--------------------+--------------+-------+----+---------+--------------+--------+---------+------------------+-------+-------+---------------+-----+\n",
            "|               X|               Y|RowID|       CrimeDateTime|CrimeCode|          Location|         Description|Inside_Outside| Weapon|Post| District|  Neighborhood|Latitude|Longitude|       GeoLocation|Premise|VRIName|Total_Incidents|Shape|\n",
            "+----------------+----------------+-----+--------------------+---------+------------------+--------------------+--------------+-------+----+---------+--------------+--------+---------+------------------+-------+-------+---------------+-----+\n",
            "|1428019.10487147|589532.731060804|    1|2022/03/05 03:43:...|      3NF|     1800 FLEET ST|    ROBBERY - STREET|          null|FIREARM| 213|SOUTHEAST|   FELLS POINT| 39.2847| -76.5913|(39.2847,-76.5913)|   null|   null|              1| null|\n",
            "|1428019.10487147|589532.731060804|    2|2022/03/05 03:43:...|      3NF|     1800 FLEET ST|    ROBBERY - STREET|          null|FIREARM| 213|SOUTHEAST|   FELLS POINT| 39.2847| -76.5913|(39.2847,-76.5913)|   null|   null|              1| null|\n",
            "|1428019.10487147|589532.731060804|    3|2022/03/05 03:43:...|      3NF|     1800 FLEET ST|    ROBBERY - STREET|          null|FIREARM| 213|SOUTHEAST|   FELLS POINT| 39.2847| -76.5913|(39.2847,-76.5913)|   null|   null|              1| null|\n",
            "|1423024.46477252| 572683.29122287|    4|2022/03/05 04:30:...|      3CF|100 E PATAPSCO AVE|ROBBERY - COMMERCIAL|          null|FIREARM| 913| SOUTHERN|      BROOKLYN| 39.2385| -76.6092|(39.2385,-76.6092)|   null|   null|              1| null|\n",
            "|1400632.37017858|593904.722108476|    5|2022/03/05 01:30:...|      3AF|     RD & KEVIN RD|    ROBBERY - STREET|          null|FIREARM| 822|SOUTHWEST|ROGNEL HEIGHTS|  39.297|  -76.688|  (39.297,-76.688)|   null|   null|              1| null|\n",
            "+----------------+----------------+-----+--------------------+---------+------------------+--------------------+--------------+-------+----+---------+--------------+--------+---------+------------------+-------+-------+---------------+-----+\n",
            "only showing top 5 rows\n",
            "\n"
          ]
        }
      ]
    },
    {
      "cell_type": "code",
      "source": [
        "df.persist()"
      ],
      "metadata": {
        "colab": {
          "base_uri": "https://localhost:8080/"
        },
        "id": "NrpB32tknNsE",
        "outputId": "46fc99e5-1c3a-43e1-8b34-8eaabaee9202"
      },
      "execution_count": 110,
      "outputs": [
        {
          "output_type": "execute_result",
          "data": {
            "text/plain": [
              "DataFrame[X: double, Y: double, RowID: int, CrimeDateTime: string, CrimeCode: string, Location: string, Description: string, Inside_Outside: string, Weapon: string, Post: string, District: string, Neighborhood: string, Latitude: double, Longitude: double, GeoLocation: string, Premise: string, VRIName: string, Total_Incidents: int, Shape: string]"
            ]
          },
          "metadata": {},
          "execution_count": 110
        }
      ]
    },
    {
      "cell_type": "code",
      "source": [
        "df.select('CrimeCode').distinct().sort('CrimeCode').collect()"
      ],
      "metadata": {
        "colab": {
          "base_uri": "https://localhost:8080/"
        },
        "id": "UvIiAYxVpKah",
        "outputId": "3b0e29c2-c6dd-4870-f4de-c1f96979f8e1"
      },
      "execution_count": 111,
      "outputs": [
        {
          "output_type": "execute_result",
          "data": {
            "text/plain": [
              "[Row(CrimeCode='1A'),\n",
              " Row(CrimeCode='1K'),\n",
              " Row(CrimeCode='1O'),\n",
              " Row(CrimeCode='2A'),\n",
              " Row(CrimeCode='2B'),\n",
              " Row(CrimeCode='3AF'),\n",
              " Row(CrimeCode='3AJF'),\n",
              " Row(CrimeCode='3AJK'),\n",
              " Row(CrimeCode='3AJO'),\n",
              " Row(CrimeCode='3AK'),\n",
              " Row(CrimeCode='3AO'),\n",
              " Row(CrimeCode='3B'),\n",
              " Row(CrimeCode='3BJ'),\n",
              " Row(CrimeCode='3C'),\n",
              " Row(CrimeCode='3CF'),\n",
              " Row(CrimeCode='3CK'),\n",
              " Row(CrimeCode='3CO'),\n",
              " Row(CrimeCode='3D'),\n",
              " Row(CrimeCode='3E'),\n",
              " Row(CrimeCode='3EF'),\n",
              " Row(CrimeCode='3EK'),\n",
              " Row(CrimeCode='3EO'),\n",
              " Row(CrimeCode='3F'),\n",
              " Row(CrimeCode='3GF'),\n",
              " Row(CrimeCode='3GK'),\n",
              " Row(CrimeCode='3GO'),\n",
              " Row(CrimeCode='3H'),\n",
              " Row(CrimeCode='3J'),\n",
              " Row(CrimeCode='3JF'),\n",
              " Row(CrimeCode='3JK'),\n",
              " Row(CrimeCode='3JO'),\n",
              " Row(CrimeCode='3K'),\n",
              " Row(CrimeCode='3L'),\n",
              " Row(CrimeCode='3LF'),\n",
              " Row(CrimeCode='3LK'),\n",
              " Row(CrimeCode='3LO'),\n",
              " Row(CrimeCode='3M'),\n",
              " Row(CrimeCode='3N'),\n",
              " Row(CrimeCode='3NF'),\n",
              " Row(CrimeCode='3NK'),\n",
              " Row(CrimeCode='3NO'),\n",
              " Row(CrimeCode='3P'),\n",
              " Row(CrimeCode='4A'),\n",
              " Row(CrimeCode='4B'),\n",
              " Row(CrimeCode='4C'),\n",
              " Row(CrimeCode='4D'),\n",
              " Row(CrimeCode='4E'),\n",
              " Row(CrimeCode='5A'),\n",
              " Row(CrimeCode='5B'),\n",
              " Row(CrimeCode='5C'),\n",
              " Row(CrimeCode='5D'),\n",
              " Row(CrimeCode='5E'),\n",
              " Row(CrimeCode='5F'),\n",
              " Row(CrimeCode='5G'),\n",
              " Row(CrimeCode='6A'),\n",
              " Row(CrimeCode='6B'),\n",
              " Row(CrimeCode='6C'),\n",
              " Row(CrimeCode='6D'),\n",
              " Row(CrimeCode='6E'),\n",
              " Row(CrimeCode='6F'),\n",
              " Row(CrimeCode='6G'),\n",
              " Row(CrimeCode='6H'),\n",
              " Row(CrimeCode='6J'),\n",
              " Row(CrimeCode='6K'),\n",
              " Row(CrimeCode='6L'),\n",
              " Row(CrimeCode='7A'),\n",
              " Row(CrimeCode='7B'),\n",
              " Row(CrimeCode='7C'),\n",
              " Row(CrimeCode='8AO'),\n",
              " Row(CrimeCode='8AV'),\n",
              " Row(CrimeCode='8BO'),\n",
              " Row(CrimeCode='8BV'),\n",
              " Row(CrimeCode='8CO'),\n",
              " Row(CrimeCode='8CV'),\n",
              " Row(CrimeCode='8DO'),\n",
              " Row(CrimeCode='8EO'),\n",
              " Row(CrimeCode='8EV'),\n",
              " Row(CrimeCode='8FO'),\n",
              " Row(CrimeCode='8FV'),\n",
              " Row(CrimeCode='8GO'),\n",
              " Row(CrimeCode='8GV'),\n",
              " Row(CrimeCode='8H'),\n",
              " Row(CrimeCode='8I'),\n",
              " Row(CrimeCode='8J'),\n",
              " Row(CrimeCode='9S')]"
            ]
          },
          "metadata": {},
          "execution_count": 111
        }
      ]
    },
    {
      "cell_type": "code",
      "source": [
        "df.groupBy(\"CrimeCode\").agg(S.count(\"CrimeCode\")).withColumnRenamed(\"count(CrimeCode)\", \"CrimeCount\").orderBy(\"CrimeCount\", ascending=False).show()"
      ],
      "metadata": {
        "colab": {
          "base_uri": "https://localhost:8080/"
        },
        "id": "F7ln5sQAxneX",
        "outputId": "bb8ae71b-13be-4ced-93be-709e098f6f07"
      },
      "execution_count": 112,
      "outputs": [
        {
          "output_type": "stream",
          "name": "stdout",
          "text": [
            "+---------+----------+\n",
            "|CrimeCode|CrimeCount|\n",
            "+---------+----------+\n",
            "|       4E|     91822|\n",
            "|       6D|     68508|\n",
            "|       5A|     43956|\n",
            "|       7A|     40308|\n",
            "|       6J|     27670|\n",
            "|       6G|     26898|\n",
            "|       6E|     24310|\n",
            "|       6C|     23269|\n",
            "|       4C|     22455|\n",
            "|       5D|     14971|\n",
            "|      3AF|     14760|\n",
            "|       4B|     14501|\n",
            "|       4A|     13240|\n",
            "|       3B|     10735|\n",
            "|       4D|      7222|\n",
            "|       5B|      6481|\n",
            "|       9S|      5452|\n",
            "|       6F|      5058|\n",
            "|       5C|      4917|\n",
            "|       6B|      4106|\n",
            "+---------+----------+\n",
            "only showing top 20 rows\n",
            "\n"
          ]
        }
      ]
    },
    {
      "cell_type": "code",
      "source": [
        "df.groupBy(\"Neighborhood\").agg(S.count(\"Neighborhood\")).withColumnRenamed(\"count(Neighborhood)\", \"CrimeCount\").orderBy(\"CrimeCount\", ascending=False).show()"
      ],
      "metadata": {
        "colab": {
          "base_uri": "https://localhost:8080/"
        },
        "id": "xczrgoMR0AlD",
        "outputId": "303a902a-b586-439c-b5a2-97ac0b04d5b6"
      },
      "execution_count": 113,
      "outputs": [
        {
          "output_type": "stream",
          "name": "stdout",
          "text": [
            "+--------------------+----------+\n",
            "|        Neighborhood|CrimeCount|\n",
            "+--------------------+----------+\n",
            "|            DOWNTOWN|     17818|\n",
            "|           FRANKFORD|     12062|\n",
            "|       BELAIR-EDISON|     10895|\n",
            "|            BROOKLYN|      9043|\n",
            "|              CANTON|      7548|\n",
            "| SANDTOWN-WINCHESTER|      7430|\n",
            "|         CHERRY HILL|      7407|\n",
            "|               UPTON|      6510|\n",
            "|        MOUNT VERNON|      6160|\n",
            "|         FELLS POINT|      6015|\n",
            "|        INNER HARBOR|      5990|\n",
            "|PATTERSON PARK NE...|      5988|\n",
            "|WASHINGTON VILLAG...|      5940|\n",
            "|      HAMILTON HILLS|      5917|\n",
            "|COLDSTREAM HOMEST...|      5819|\n",
            "|           MONDAWMIN|      5761|\n",
            "|      MCELDERRY PARK|      5676|\n",
            "|CENTRAL PARK HEIGHTS|      5258|\n",
            "|    CARROLLTON RIDGE|      5034|\n",
            "|       BROADWAY EAST|      5004|\n",
            "+--------------------+----------+\n",
            "only showing top 20 rows\n",
            "\n"
          ]
        }
      ]
    },
    {
      "cell_type": "code",
      "source": [
        "df.select(col(\"CrimeDateTime\"), to_timestamp(col(\"CrimeDateTime\"), \"MM-dd-yyyy HH mm ss SSS\").alias(\"Crime_date\"))"
      ],
      "metadata": {
        "colab": {
          "base_uri": "https://localhost:8080/"
        },
        "id": "2gLThOUwHYDq",
        "outputId": "117b1b6f-2f79-4f61-f99e-210228e9c263"
      },
      "execution_count": 138,
      "outputs": [
        {
          "output_type": "execute_result",
          "data": {
            "text/plain": [
              "DataFrame[CrimeDateTime: string, Crime_date: timestamp]"
            ]
          },
          "metadata": {},
          "execution_count": 138
        }
      ]
    },
    {
      "cell_type": "code",
      "source": [
        "df.select('Weapon').distinct().sort('Weapon').collect()"
      ],
      "metadata": {
        "colab": {
          "base_uri": "https://localhost:8080/"
        },
        "id": "4t985UMdA78b",
        "outputId": "18ab1d5e-7b11-4a3a-86ef-a428e8f4a586"
      },
      "execution_count": 131,
      "outputs": [
        {
          "output_type": "execute_result",
          "data": {
            "text/plain": [
              "[Row(Weapon=None),\n",
              " Row(Weapon='FIRE'),\n",
              " Row(Weapon='FIREARM'),\n",
              " Row(Weapon='HANDS'),\n",
              " Row(Weapon='KNIFE'),\n",
              " Row(Weapon='NA'),\n",
              " Row(Weapon='OTHER')]"
            ]
          },
          "metadata": {},
          "execution_count": 131
        }
      ]
    },
    {
      "cell_type": "code",
      "source": [
        "No_weapon = ['NA', \"None\"]\n",
        "df.filter(~df.Weapon.isin(No_weapon)).groupby('Weapon').count().show()"
      ],
      "metadata": {
        "colab": {
          "base_uri": "https://localhost:8080/"
        },
        "id": "dKVxj9sFFpcM",
        "outputId": "4ad0eec8-84d6-4505-d189-4b8ff0c20a7d"
      },
      "execution_count": 117,
      "outputs": [
        {
          "output_type": "stream",
          "name": "stdout",
          "text": [
            "+-------+-----+\n",
            "| Weapon|count|\n",
            "+-------+-----+\n",
            "|  HANDS| 7222|\n",
            "|  KNIFE|19181|\n",
            "|  OTHER|30293|\n",
            "|   FIRE| 2348|\n",
            "|FIREARM|46217|\n",
            "+-------+-----+\n",
            "\n"
          ]
        }
      ]
    }
  ]
}